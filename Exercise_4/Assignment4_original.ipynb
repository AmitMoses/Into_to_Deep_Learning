{
  "nbformat": 4,
  "nbformat_minor": 0,
  "metadata": {
    "colab": {
      "name": "Assignment4_original.ipynb",
      "provenance": [],
      "collapsed_sections": []
    },
    "language_info": {
      "name": "python"
    },
    "kernelspec": {
      "name": "python3",
      "display_name": "Python 3"
    },
    "accelerator": "GPU"
  },
  "cells": [
    {
      "cell_type": "markdown",
      "metadata": {
        "id": "MV-Baq834KT6"
      },
      "source": [
        "# Assignment 4: Language Processing with RNN-Based Autoencoders\n",
        "\n",
        "**Deadline**: Sunday, June 15th, by 9pm.\n",
        "\n",
        "\n",
        "**Submission**: Submit a PDF export of the completed notebook as well as the ipynb file. \n",
        "\n",
        "In this assignement, we will practice the application of deep learning to natural language processing.\n",
        "We will be working with a subset of Reuters news headlines that are collected over 15 months,\n",
        "covering all of 2019, plus a few months in 2018 and in a few months of this year.\n",
        "\n",
        "In particular, we will be building an **autoencoder** of news headlines. The idea is similar\n",
        "to the kind of image autoencoder we built in lecture: we will have an **encoder** that\n",
        "maps a news headline to a vector embedding, and then a **decoder** that reconstructs\n",
        "the news headline. Both our encoder and decoder networks will be Recurrent Neural Networks,\n",
        "so that you have a chance to practice building\n",
        "\n",
        "- a neural network that takes a sequence as an input\n",
        "- a neural network that generates a sequence as an output\n",
        "\n",
        "This assignment is organized as follows:\n",
        "\n",
        "- Question 1. Exploring the data\n",
        "- Question 2. Building the autoencoder\n",
        "- Question 3. Training the autoencoder using *data augmentation*\n",
        "- Question 4. Analyzing the embeddings (interpolating between headlines)\n",
        "\n",
        "Furthermore, we'll be introducing the idea of **data augmentation** for improving of\n",
        "the robustness of the autoencoder, as proposed by Shen et al [1] in ICML 2020.\n",
        "\n",
        "[1] Shen, Tianxiao, Jonas Mueller, Regina Barzilay, and Tommi Jaakkola. \"Educating text autoencoders: Latent representation guidance via denoising.\" In International Conference on Machine Learning, pp. 8719-8729. PMLR, 2020."
      ]
    },
    {
      "cell_type": "code",
      "metadata": {
        "id": "_CobqQza4KUC"
      },
      "source": [
        "import torch\n",
        "import torch.nn as nn\n",
        "import torch.nn.functional as F\n",
        "import torch.optim as optim\n",
        " \n",
        "import matplotlib.pyplot as plt\n",
        "import numpy as np\n",
        "import random\n",
        "import pandas as pd"
      ],
      "execution_count": null,
      "outputs": []
    },
    {
      "cell_type": "markdown",
      "metadata": {
        "id": "cSz5FCNh4KUD"
      },
      "source": [
        "## Question 1. Data (20 %)\n",
        "\n",
        "Download the files `reuters_train.txt` and `reuters_valid.txt`, and upload them to Google Drive.\n",
        "\n",
        "Then, mount Google Drive from your Google Colab notebook:"
      ]
    },
    {
      "cell_type": "code",
      "metadata": {
        "colab": {
          "base_uri": "https://localhost:8080/"
        },
        "id": "fnABNyg94KUE",
        "outputId": "6577bb0e-d853-46c2-8422-aa8c81115abb"
      },
      "source": [
        "from google.colab import drive\n",
        "drive.mount('/content/gdrive')\n",
        " \n",
        "train_path = '/content/gdrive/My Drive/Intro_to_Deep_Learning/HW4/data/reuters_train.txt' # Update me\n",
        "valid_path = '/content/gdrive/My Drive/Intro_to_Deep_Learning/HW4/data/reuters_valid.txt' # Update me"
      ],
      "execution_count": null,
      "outputs": [
        {
          "output_type": "stream",
          "text": [
            "Mounted at /content/gdrive\n"
          ],
          "name": "stdout"
        }
      ]
    },
    {
      "cell_type": "markdown",
      "metadata": {
        "id": "hdkp4HLW4KUE"
      },
      "source": [
        "As we did in some of our examples (e.g., training transformers on IMDB reviews) will be using PyTorch's `torchtext` utilities to help us load, process,\n",
        "and batch the data. We'll be using a `TabularDataset` to load our data, which works well on structured\n",
        "CSV data with fixed columns (e.g. a column for the sequence, a column for the label). Our tabular dataset\n",
        "is even simpler: we have no labels, just some text. So, we are treating our data as a table with one field\n",
        "representing our sequence."
      ]
    },
    {
      "cell_type": "code",
      "metadata": {
        "id": "I2PjMSho4KUF"
      },
      "source": [
        "import torchtext.legacy.data as data\n",
        " \n",
        "# Tokenization function to separate a headline into words\n",
        "def tokenize_headline(headline):\n",
        "    \"\"\"Returns the sequence of words in the string headline. We also\n",
        "    prepend the \"<bos>\" or beginning-of-string token, and append the\n",
        "    \"<eos>\" or end-of-string token to the headline.\n",
        "    \"\"\"\n",
        "    return (\"<bos> \" + headline + \" <eos>\").split()\n",
        " \n",
        "# Data field (column) representing our *text*.\n",
        "text_field = data.Field(\n",
        "    sequential=True,            # this field consists of a sequence\n",
        "    tokenize=tokenize_headline, # how to split sequences into words\n",
        "    include_lengths=True,       # to track the length of sequences, for batching\n",
        "    batch_first=True,           # similar to batch_first=True used in nn.RNN demonstrated in lecture\n",
        "    use_vocab=True)             # to turn each character into an integer index\n",
        "train_data = data.TabularDataset(\n",
        "    path=train_path,                # data file path\n",
        "    format=\"tsv\",                   # fields are separated by a tab\n",
        "    fields=[('title', text_field)]) # list of fields (we have only one)"
      ],
      "execution_count": null,
      "outputs": []
    },
    {
      "cell_type": "code",
      "metadata": {
        "colab": {
          "base_uri": "https://localhost:8080/"
        },
        "id": "f20YGOEPXP9Y",
        "outputId": "a3ee2f5f-fb20-4a2f-8c6d-4ded916f14db"
      },
      "source": [
        "print(train_data[0].title)"
      ],
      "execution_count": null,
      "outputs": [
        {
          "output_type": "stream",
          "text": [
            "['<bos>', 'dems', 'move', 'to', 'end', 'shutdown', ',', 'without', 'wall', 'money', '<eos>']\n"
          ],
          "name": "stdout"
        }
      ]
    },
    {
      "cell_type": "markdown",
      "metadata": {
        "id": "7TNlqCRM4KUF"
      },
      "source": [
        "### Part (a) -- 5%\n",
        "\n",
        "Draw histograms of the number of words per headline in our training set.\n",
        "Excluding the `<bos>` and `<eos>` tags in your computation.\n",
        "Explain why we would be interested in such histograms."
      ]
    },
    {
      "cell_type": "code",
      "metadata": {
        "id": "mBPd0ezl4KUG",
        "colab": {
          "base_uri": "https://localhost:8080/",
          "height": 295
        },
        "outputId": "6919a618-f853-40d9-c9ab-429ecd258d83"
      },
      "source": [
        "# Include your histogram and your written explanations\n",
        " \n",
        "# Here is an example of how to plot a histogram in matplotlib:\n",
        "#plt.hist(np.random.normal(0, 1, 40), bins=20)\n",
        " \n",
        "# Here are some sample code that uses the train_data object:\n",
        "#print(train_data[5].title)\n",
        " \n",
        "num_of_wrds_lis =[]\n",
        "for sentence in train_data:\n",
        "    #print(sentence.title)\n",
        "    #print(len(sentence.title)-2)\n",
        "    num_of_wrds_lis.append(len(sentence.title)-2)\n",
        "    #break\n",
        " \n",
        "plt.hist(num_of_wrds_lis, bins=(max(num_of_wrds_lis)-min(num_of_wrds_lis)))\n",
        "plt.xlabel('Number o f words per headline')\n",
        "plt.ylabel('Number of occurrences')\n",
        "plt.title('Histogram: Number of words per headline')\n",
        "plt.show()"
      ],
      "execution_count": null,
      "outputs": [
        {
          "output_type": "display_data",
          "data": {
            "image/png": "[encoded data removed]",
            "text/plain": [
              "<Figure size 432x288 with 1 Axes>"
            ]
          },
          "metadata": {
            "tags": [],
            "needs_background": "light"
          }
        }
      ]
    },
    {
      "cell_type": "markdown",
      "metadata": {
        "id": "CWnes5SVRwxl"
      },
      "source": [
        "**Answer:**\n",
        "\n",
        "Data exploration is a process of understanding the data with statistical and visualization methods. This step helps identifying patterns and problems in the dataset.\n",
        "\n",
        "This histogram is helpful to understand the distribution of the number of words for each headline. We shall also create an histogram for the out come of the finished model, to compare the results and evaluate how compressed the model.\n",
        "\n",
        "Amit: to compere the results and evaluate the histogram of the data that the model will generate.\n"
      ]
    },
    {
      "cell_type": "markdown",
      "metadata": {
        "id": "gm3ysTzh4KUG"
      },
      "source": [
        "### Part (b) -- 5%\n",
        "\n",
        "How many distinct words appear in the training data?\n",
        "Exclude the `<bos>` and `<eos>` tags in your computation."
      ]
    },
    {
      "cell_type": "code",
      "metadata": {
        "colab": {
          "base_uri": "https://localhost:8080/"
        },
        "id": "JEOiE4UGeIt1",
        "outputId": "77912b0a-bef0-4389-a5cf-111f99045a47"
      },
      "source": [
        "# Report your values here. Make sure that you report the actual values,\n",
        "# and not just the code used to get those values\n",
        " \n",
        "# You might find the python class Counter from the collections package useful\n",
        " \n",
        "#import collections\n",
        "from collections import Counter\n",
        " \n",
        "# Create list of all words\n",
        "flt_lst =[]\n",
        "for sentence in train_data:\n",
        "    tmp_snt = sentence.title # Extract the headline\n",
        "    tmp_snt = tmp_snt[1:-1] # Exclude <bos> and <eos>\n",
        "    flt_lst.extend(tmp_snt) # Add to 1 long list\n",
        " \n",
        "# Count and print\n",
        "word_counter = Counter(flt_lst)\n",
        "print('Total number of words: ' + str(len(flt_lst)) + \n",
        "      '\\nTotal number of distinct words: ' + str(len(word_counter)) +\n",
        "      '\\nPercents of distinct: ' + \n",
        "      str(round(len(word_counter)/len(flt_lst)*100,2)) + '%')"
      ],
      "execution_count": null,
      "outputs": [
        {
          "output_type": "stream",
          "text": [
            "Total number of words: 1898155\n",
            "Total number of distinct words: 51298\n",
            "Percents of distinct: 2.7%\n"
          ],
          "name": "stdout"
        }
      ]
    },
    {
      "cell_type": "markdown",
      "metadata": {
        "id": "pOeAFZP7eaTp"
      },
      "source": [
        "Track the number of occurrence, of most common unique word"
      ]
    },
    {
      "cell_type": "code",
      "metadata": {
        "colab": {
          "base_uri": "https://localhost:8080/",
          "height": 831
        },
        "id": "H3OiLPw4FKEX",
        "outputId": "b0481f65-a458-4ed4-bd77-db13557b23d0"
      },
      "source": [
        "wrds_num = 30\n",
        "print(str(wrds_num) + ' most common distinct words:')\n",
        "for word, count in word_counter.most_common(wrds_num):\n",
        "    print(word, \": \", count)\n",
        " \n",
        "# Bars plot\n",
        "lst = word_counter.most_common(wrds_num)\n",
        "df = pd.DataFrame(lst, columns = ['Word', 'Count'])\n",
        "df.plot.bar(x='Word',y='Count')\n",
        "plt.show()"
      ],
      "execution_count": null,
      "outputs": [
        {
          "output_type": "stream",
          "text": [
            "30 most common distinct words:\n",
            "to :  58452\n",
            ", :  43088\n",
            "in :  38538\n",
            "'s :  34580\n",
            "_num_ :  31340\n",
            ": :  28052\n",
            "on :  24794\n",
            "of :  22895\n",
            "for :  22163\n",
            "u.s. :  19320\n",
            "update :  18167\n",
            "as :  17167\n",
            "says :  14089\n",
            "- :  12525\n",
            "with :  10552\n",
            "after :  9913\n",
            "china :  9724\n",
            "at :  8524\n",
            "trump :  8229\n",
            "$ :  8176\n",
            "trade :  7898\n",
            "new :  7512\n",
            "over :  7040\n",
            "from :  6717\n",
            "deal :  6360\n",
            "and :  6279\n",
            "oil :  5536\n",
            "by :  5352\n",
            "the :  5074\n",
            "a :  4761\n"
          ],
          "name": "stdout"
        },
        {
          "output_type": "display_data",
          "data": {
            "image/png": "[encoded data removed]",
            "text/plain": [
              "<Figure size 432x288 with 1 Axes>"
            ]
          },
          "metadata": {
            "tags": [],
            "needs_background": "light"
          }
        }
      ]
    },
    {
      "cell_type": "markdown",
      "metadata": {
        "id": "e5lgEwiM4KUH"
      },
      "source": [
        "### Part (c) -- 5%\n",
        "\n",
        "The distribution of *words* will have a long tail, meaning that there are some words\n",
        "that will appear very often, and many words that will appear infrequently. How many words\n",
        "appear exactly once in the training set? Exactly twice?\n",
        "Print these numbers below"
      ]
    },
    {
      "cell_type": "code",
      "metadata": {
        "id": "RpkUDVoC4KUH",
        "colab": {
          "base_uri": "https://localhost:8080/"
        },
        "outputId": "7d1f3469-7f3f-4168-8c6c-c1412064486a"
      },
      "source": [
        "# Report your values here. Make sure that you report the actual values,\n",
        "# and not just the code used to get those values\n",
        " \n",
        "wrds_num = len(word_counter) # Chose all words\n",
        "appear_once = 0 # Reset counter\n",
        "appear_twice = 0 # Reset counter\n",
        "for word, count in word_counter.most_common()[:-wrds_num-1:-1]: # .most_common()[:-wrds_num-1:-1] is necessary, since just word_counter wont work\n",
        "    if count == 1:\n",
        "        appear_once += 1\n",
        "    elif count == 2:\n",
        "        appear_twice += 1\n",
        "    #print(word, \": \", count)\n",
        " \n",
        "print('Number of words that appears once: ' + str(appear_once) + ' (' +\n",
        "      str(round(appear_once/wrds_num*100,2)) + '% out of distinct words)' +\n",
        "      '\\nNumber of words that appears twice: ' + str(appear_twice) + ' (' +\n",
        "      str(round(appear_twice/wrds_num*100,2)) + '% out of distinct words)')"
      ],
      "execution_count": null,
      "outputs": [
        {
          "output_type": "stream",
          "text": [
            "Number of words that appears once: 19854 (38.7% out of distinct words)\n",
            "Number of words that appears twice: 7193 (14.02% out of distinct words)\n"
          ],
          "name": "stdout"
        }
      ]
    },
    {
      "cell_type": "markdown",
      "metadata": {
        "id": "K3RKPwdI4KUI"
      },
      "source": [
        "### Part (d) -- 5%\n",
        "We will replace the infrequent\n",
        "words with an `<unk>` tag, instead of learning embeddings for these rare words. `torchtext` also provides us with the `<pad>` tag used for padding short sequences for batching.\n",
        "We will thus only model the top 9995 words in the training set, excluding the tags\n",
        "`<bos>`, `<eos>`, `<unk>`, and `<pad>`.\n",
        "\n",
        "What percentage of total word count(whole dataset) will be supported? Alternatively, what percentage\n",
        "of total word count(whole dataset) in the training set will be set to the `<unk>` tag?"
      ]
    },
    {
      "cell_type": "code",
      "metadata": {
        "id": "Cva5DC_64KUI",
        "colab": {
          "base_uri": "https://localhost:8080/"
        },
        "outputId": "8924c836-e8ed-4218-a4a1-d1d9a7813858"
      },
      "source": [
        "# Report your values here. Make sure that you report the actual values,\n",
        "# and not just the code used to get those values\n",
        " \n",
        "infrequent_words = appear_once + appear_twice*2\n",
        " \n",
        "# Create list of all words\n",
        "flt_lst =[]\n",
        "for sentence in train_data:\n",
        "    tmp_snt = sentence.title # Extract the headline\n",
        "    #tmp_snt = tmp_snt[1:-1] # Exclude <bos> and <eos>\n",
        "    flt_lst.extend(tmp_snt) # Add to 1 long list\n",
        " \n",
        "per = round(infrequent_words/len(flt_lst)*100,2)\n",
        "print('Total words: ' + str(len(flt_lst)) + \n",
        "      '\\nInfrequent words: ' + str(infrequent_words) +\n",
        "      '\\nThe percentage: ' + str(per) + '%')"
      ],
      "execution_count": null,
      "outputs": [
        {
          "output_type": "stream",
          "text": [
            "Total words: 2241041\n",
            "Infrequent words: 34240\n",
            "The percentage: 1.53%\n"
          ],
          "name": "stdout"
        }
      ]
    },
    {
      "cell_type": "markdown",
      "metadata": {
        "id": "SBV8CTyk4KUJ"
      },
      "source": [
        "The `torchtext` package will help us keep track of our list of unique words, known\n",
        "as a **vocabulary**. A vocabulary also assigns a unique integer index to each word."
      ]
    },
    {
      "cell_type": "code",
      "metadata": {
        "colab": {
          "base_uri": "https://localhost:8080/"
        },
        "id": "GRLFF8j14KUJ",
        "outputId": "68b409e2-a5b9-487f-b328-d44fcffed4d2"
      },
      "source": [
        "# Build the vocabulary based on the training data. The vocabulary\n",
        "# can have at most 9997 words (9995 words + the <bos> and <eos> token)\n",
        "text_field.build_vocab(train_data, max_size=9997)\n",
        " \n",
        "# This vocabulary object will be helpful for us\n",
        "vocab = text_field.vocab\n",
        "print(vocab.stoi[\"hello\"]) # for instances, we can convert from string to (unique) index\n",
        "print(vocab.itos[10])      # ... and from word index to string\n",
        " \n",
        "# The size of our vocabulary  \n",
        "vocab_size = len(text_field.vocab.stoi) \n",
        " \n",
        "# Here are the two tokens that torchtext adds for us:\n",
        "print(vocab.itos[0]) # <unk> represents an unknown word not in our vocabulary\n",
        "print(vocab.itos[1]) # <pad> will be used to pad short sequences for batching"
      ],
      "execution_count": null,
      "outputs": [
        {
          "output_type": "stream",
          "text": [
            "0\n",
            "on\n",
            "<unk>\n",
            "<pad>\n"
          ],
          "name": "stdout"
        }
      ]
    },
    {
      "cell_type": "markdown",
      "metadata": {
        "id": "bnoMpzC14KUK"
      },
      "source": [
        "## Question 2. Text Autoencoder (40%)\n",
        "\n",
        "Building a text autoencoder is a little more complicated than an image autoencoder like we did in class. So\n",
        "we will need to thoroughly understand the model that we want to build before actually building it. Note that the best and fastest way to complete this assignment is to spend time upfront understanding the architecture. The explanations are quite dense, but it is important to understand the operation of this model. The rationale here is similar in nature to the `seq2seq` RNN model we discussed in class, only we are dealing with unsupervised learning here rather than machine translation. \n",
        "\n",
        "# Architecture description\n",
        "Here is a diagram showing our desired architecture:\n",
        "\n",
        "<img src='https://drive.google.com/uc?id=1UaXAYQvmFbBcuSBQb7ozjSliuVn7bP1Q'>\n",
        "\n",
        "There are two main components to the model: the **encoder** and the **decoder**.\n",
        "As always with neural networks, we'll first describe how to make\n",
        "**predictions** with of these components. Let's get started:\n",
        "\n",
        "The **encoder** will take a sequence of words (a headline) as *input*, and produce an\n",
        "embedding (a vector) that represents the entire headline. In the diagram above,\n",
        "the vector ${\\bf h}^{(7)}$ is the vector embedding containing information about \n",
        "the entire headline.  This portion is very similar\n",
        "to the sentiment analysis RNN that we discussed in lecture (but without the fully-connected\n",
        "layer that makes a prediction).\n",
        "\n",
        "The **decoder** will take an embedding (in the diagram, the vector ${\\bf h}^{(7)}$) as input,\n",
        "and uses a separate RNN to **generate a sequence of words**. To generate a sequence of words,\n",
        "the decoder needs to do the following:\n",
        "\n",
        "\n",
        "1.   Determine the previous word that was generated. This previous word will act as ${\\bf x}^{(t)}$\n",
        "   to our RNN, and will be used to update the hidden state ${\\bf m}^{(t)}$. Since each of our\n",
        "   sequences begin with the `<bos>` token, we'll set ${\\bf x}^{(1)}$ to be the `<bos>` token.\n",
        "2.   Compute the updates to the hidden state ${\\bf m}^{(t)}$ based on the previous hidden state\n",
        "   ${\\bf m}^{(t-1)}$ and ${\\bf x}^{(t)}$. Intuitively, this hidden state vector ${\\bf m}^{(t)}$\n",
        "   is a representation of *all the words we still need to generate*.\n",
        "3. We'll use a fully-connected layer to take a hidden state ${\\bf m}^{(t)}$, and determine\n",
        "   *what the next word should be*. This fully-connected layer solves a *classification problem*,\n",
        "   since we are trying to choose a word out of $K=$ `vocab_size` distinct words. As in a classification\n",
        "   problem, the fully-connected neural network will compute a *probability distribution* over\n",
        "   these `vocab_size` words. In the diagram, we are using ${\\bf z}^{(t)}$ to represent the logits,\n",
        "   or the pre-softmax activation values representing the probability distribution.\n",
        "4. We will need to *sample* an actual word from this probability distribution ${\\bf z}^{(t)}$.\n",
        "   We can do this in a number of ways, which we'll discuss in question 3. For now, you can \n",
        "   imagine your favourite way of picking a word given a distribution over words.\n",
        "5. This word we choose will become the next input ${\\bf x}^{(t+1)}$ to our RNN, which is used\n",
        "   to update our hidden state ${\\bf m}^{(t+1)}$, i.e., to determine what are the remaining\n",
        "   words to be generated.\n",
        "\n",
        "We can repeat this process until we see an `<eos>` token generated, or until the generated\n",
        "sequence becomes too long.\n",
        "\n",
        "# Training the architecture\n",
        "While our autoencoder produces a sequence, computing the loss by comparing the complete generated sequence to the ground truth (the encoder input) gives rise to multiple challanges. One is that the generated\n",
        "sequence might be longer or shorter than the actual sequence, meaning that there may\n",
        "be more/fewer ${\\bf z}^{(t)}$s than ground-truth words. Another more insidious issue\n",
        "is that the **gradients will become very high-variance and unstable**, because\n",
        "**early mistakes will easily throw the model off-track**. Early in training,\n",
        "our model is unlikely to produce the right answer in step $t=1$, so the gradients\n",
        "we obtain based on the other time steps will not be very useful.\n",
        "\n",
        "At this point, you might have some ideas about \"hacks\" we can use to make training\n",
        "work. Fortunately, there is one very well-established solution called\n",
        "**teacher forcing** which we can use for training:\n",
        "instead of *sampling* the next word based on ${\\bf z}^{(t)}$, we will forget sampling,\n",
        "and use the **ground truth** ${\\bf x}^{(t)}$ as the input in the next step.\n",
        "\n",
        "Here is a diagram showing how we can use **teacher forcing** to train our model:\n",
        " \n",
        "<img src='https://drive.google.com/uc?id=1NXlimWaCviDfP8DHlIzyQR1Ie7sxfPuY'>\n",
        "\n",
        "We will use the RNN generator to compute the logits\n",
        "${\\bf z}^{(1)},{\\bf z}^{(2)},  \\cdots {\\bf z}^{(T)}$. These distributions\n",
        "can be compared to the ground-truth words using the cross-entropy loss.\n",
        "The loss function for this model will be the sum of the losses across each $t \\in \\{1,\\ldots,T\\}$.\n",
        "\n",
        "We'll train the encoder and decoder model simultaneously. There are several components\n",
        "to our model that contain tunable weights:\n",
        "\n",
        "- The word embedding that maps a word to a vector representation.\n",
        "  In theory, we could use GloVe embeddings, as we did in class. In this assignment we will not do that, but learn the word embedding from data.\n",
        "  The word embedding component is represented with blue arrows in the diagram.\n",
        "- The encoder RNN (which will use GRUs) that computes the\n",
        "  embedding over the entire headline. The encoder RNN \n",
        "  is represented with black arrows in the diagram.\n",
        "- The decoder RNN (which will also use GRUs) that computes\n",
        "  hidden states, which are vectors representing what words are to be generated.\n",
        "  The decoder RNN is represented with gray arrows in the diagram.\n",
        "- The **projection MLP** (a fully-connected layer) that computes\n",
        "  a distribution over the next word to generate, given a decoder RNN hidden\n",
        "  state. The projection is represented with green arrows \n"
      ]
    },
    {
      "cell_type": "markdown",
      "metadata": {
        "id": "Dk9WDEC90ScA"
      },
      "source": [
        "\n",
        "## Part (a) -- 20%\n",
        "\n",
        "Complete the code for the AutoEncoder class below by:\n",
        "\n",
        "1. Filling in the missing numbers in the `__init__` method using\n",
        "   the parameters `vocab_size`, `emb_size`, and `hidden_size`.  \n",
        "2. Complete the `forward` method, which uses teacher forcing\n",
        "   and computes the logits ${\\bf z}^{(t)}$ of the reconstruction of\n",
        "   the sequence. \n",
        "\n",
        "You should first try to understand the `encode` and `decode` methods,\n",
        "which are written for you. The `encode` method bears much similarity to the\n",
        "RNN we wrote in class for sentiment analysis.  The `decode` method is\n",
        "a bit more challenging. You might want to scroll down to the\n",
        "`sample_sequence` function to see how this function will be called.\n",
        "\n",
        "You can (but don't have to) use the `encode` and `decode` method in\n",
        "your `forward` method. In either case, be careful of the input\n",
        "that you feed into ether `decode` or to `self.decoder_rnn`.\n",
        "Refer to the teacher-forcing diagram.\n",
        "**bold text** Notice that batch_first is set to True, understand how deal with it."
      ]
    },
    {
      "cell_type": "code",
      "metadata": {
        "id": "6wr5przESyHm"
      },
      "source": [
        "# model with for loop\n",
        "class AutoEncoder(nn.Module):\n",
        "    def __init__(self, vocab_size, emb_size, hidden_size):\n",
        "        \"\"\"\n",
        "        A text autoencoder. The parameters \n",
        "            - vocab_size: number of unique words/tokens in the vocabulary\n",
        "            - emb_size: size of the word embeddings $x^{(t)}$\n",
        "            - hidden_size: size of the hidden states in both the\n",
        "                           encoder RNN ($h^{(t)}$) and the\n",
        "                           decoder RNN ($m^{(t)}$)\n",
        "        \"\"\"\n",
        "        super().__init__()\n",
        "        self.embed = nn.Embedding(num_embeddings = vocab_size, \n",
        "                                  embedding_dim = emb_size)  \n",
        "        self.encoder_rnn = nn.GRU(input_size = emb_size, \n",
        "                                  hidden_size = hidden_size, \n",
        "                                  batch_first = True)\n",
        "        self.decoder_rnn = nn.GRU(input_size = hidden_size, \n",
        "                                  hidden_size = hidden_size,\n",
        "                                  batch_first = True)\n",
        "        self.proj = nn.Linear(in_features = hidden_size, \n",
        "                              out_features = vocab_size) \n",
        " \n",
        "    def encode(self, inp):\n",
        "        \"\"\"\n",
        "        Computes the encoder output given a sequence of words.\n",
        "        \"\"\"\n",
        "        emb = self.embed(inp)\n",
        "        out, last_hidden = self.encoder_rnn(emb)\n",
        "        return last_hidden\n",
        " \n",
        "    def decode(self, inp, hidden=None):\n",
        "        \"\"\"\n",
        "        Computes the decoder output given a sequence of words, and\n",
        "        (optionally) an initial hidden state.\n",
        "        \"\"\"\n",
        "        emb = self.embed(inp)\n",
        "        out, last_hidden = self.decoder_rnn(emb, hidden)\n",
        "        out_seq = self.proj(out)\n",
        "        return out_seq, last_hidden\n",
        " \n",
        "    def forward(self, inp):\n",
        "        \"\"\"\n",
        "        Compute both the encoder and decoder forward pass\n",
        "        given an integer input sequence inp with shape [batch_size, seq_length],\n",
        "        with inp[a,b] representing the (index in our vocabulary of) the b-th word\n",
        "        of the a-th training example.\n",
        " \n",
        "        This function should return the logits $z^{(t)}$ in a tensor of shape\n",
        "        [batch_size, seq_length - 1, vocab_size], computed using *teaching forcing*.\n",
        " \n",
        "        The (seq_length - 1) part is not a typo. If you don't understand why\n",
        "        we need to subtract 1, refer to the teacher-forcing diagram above.\n",
        "        \"\"\"\n",
        " \n",
        "        \n",
        "        batch_size = inp.shape[0]\n",
        "        h = self.encode(inp.view(inp.shape[0], -1))\n",
        "        hidden = h\n",
        "        logits_z = []\n",
        " \n",
        "        for l in range(inp.shape[1] - 1):\n",
        "          z, m = self.decode(inp[:,l].view(batch_size, -1),hidden)\n",
        "          hidden = m\n",
        "          logits_z.append(z.view(batch_size,-1))\n",
        " \n",
        "        logits_z = torch.stack(logits_z)\n",
        "        logits_z = logits_z.permute(1, 0, 2)\n",
        " \n",
        "        return logits_z\n"
      ],
      "execution_count": null,
      "outputs": []
    },
    {
      "cell_type": "code",
      "metadata": {
        "colab": {
          "base_uri": "https://localhost:8080/"
        },
        "id": "3sU7-2JaVkTm",
        "outputId": "318faba2-3064-451a-bdcc-3d78d293f4de"
      },
      "source": [
        "#### TESTS\n",
        "# Initialize\n",
        "emb_size = 128\n",
        "hidden_size = 128\n",
        "model = AutoEncoder(vocab_size, emb_size, hidden_size)\n",
        " \n",
        "# forword with batch_size = 2 & len(headline) = 12 | input_shape = [2,12]\n",
        "headline1 = train_data[44].title\n",
        "headline2 = train_data[46].title\n",
        "input_seq1 = torch.Tensor([vocab.stoi[w] for w in headline1]).long().unsqueeze(0)\n",
        "input_seq2 = torch.Tensor([vocab.stoi[w] for w in headline2]).long().unsqueeze(0)\n",
        "input_seq = torch.cat((input_seq1,input_seq2),0)\n",
        "pred2 = model(input_seq)\n",
        "print('Test with batch_size = 2 \\ninput_shape = {} \\noutput_shape = {}\\n'.format(input_seq.shape,pred2.shape )) \n",
        "# print sentence \n",
        "sentence = []\n",
        "for word in range(pred2.shape[1]):\n",
        "  w_idx = torch.argmax(pred2[0,word,:])\n",
        "  w = vocab.itos[w_idx]\n",
        "  sentence.append(w)\n",
        "print(sentence)\n",
        "sentence = []\n",
        "for word in range(pred2.shape[1]):\n",
        "  w_idx = torch.argmax(pred2[1,word,:])\n",
        "  w = vocab.itos[w_idx]\n",
        "  sentence.append(w)\n",
        "print(sentence)\n",
        " \n",
        "print('\\n')\n",
        "# forword with batch_size = 1 & len(headline) = 9 | input_shape = [1,9]  \n",
        "headline = train_data[42].title\n",
        "input_seq = torch.Tensor([vocab.stoi[w] for w in headline]).long().unsqueeze(0)\n",
        "pred = model(input_seq)\n",
        "print('Test with batch_size = 1 \\ninput_shape = {} \\noutput_shape = {}\\n'.format(input_seq.shape,pred.shape )) \n",
        "sentence = []\n",
        " \n",
        "# print sentence  \n",
        "for word in range(pred.shape[1]):\n",
        "  w_idx = torch.argmax(pred[0,word,:])\n",
        "  w = vocab.itos[w_idx]\n",
        "  sentence.append(w)\n",
        "print(sentence)"
      ],
      "execution_count": null,
      "outputs": [
        {
          "output_type": "stream",
          "text": [
            "Test with batch_size = 2 \n",
            "input_shape = torch.Size([2, 12]) \n",
            "output_shape = torch.Size([2, 11, 10000])\n",
            "\n",
            "['chapter', 'etf', 'acquire', 'acquire', 'gmt', 'studies', 'libya', 'draw', 'digs', 'bale', 'determine']\n",
            "['chapter', 'trespassing', 'bike', 'garden', 'murdering', 'murdering', 'transaction', 'his', 'buoys', '40,000', 'mid-atlantic']\n",
            "\n",
            "\n",
            "Test with batch_size = 1 \n",
            "input_shape = torch.Size([1, 9]) \n",
            "output_shape = torch.Size([1, 8, 10000])\n",
            "\n",
            "['expels', 'baker', 'wo', 'help', 'michigan', 'mail', 'neighborhood', 'meters']\n"
          ],
          "name": "stdout"
        }
      ]
    },
    {
      "cell_type": "markdown",
      "metadata": {
        "id": "_uwpjvIw4KUQ"
      },
      "source": [
        "### Part (b) -- 10%\n",
        "\n",
        "To check that your model is set up correctly, we'll train our autoencoder\n",
        "neural network for at least 300 iterations to memorize this sequence:"
      ]
    },
    {
      "cell_type": "code",
      "metadata": {
        "id": "sJmPNMnY4KUQ"
      },
      "source": [
        " \n",
        "headline = train_data[42].title\n",
        "input_seq = torch.Tensor([vocab.stoi[w] for w in headline]).long().unsqueeze(0)"
      ],
      "execution_count": null,
      "outputs": []
    },
    {
      "cell_type": "markdown",
      "metadata": {
        "id": "Qj55uU-C4KUQ"
      },
      "source": [
        "We are looking for the way that you set up your loss function\n",
        "corresponding to the figure above.\n",
        "Be  careful of off-by-one errors here.\n",
        "\n",
        "\n",
        "Note that the Cross Entropy Loss expects a rank-2 tensor as its first\n",
        "argument (the output of the network), and a rank-1 tensor as its second argument (the true label). You will\n",
        "need to properly reshape your data to be able to compute the loss."
      ]
    },
    {
      "cell_type": "code",
      "metadata": {
        "colab": {
          "base_uri": "https://localhost:8080/"
        },
        "id": "MGzfOt-inycq",
        "outputId": "783ca0cd-5749-426a-f1b2-20877a84f998"
      },
      "source": [
        "model = AutoEncoder(vocab_size, 128, 128)\n",
        "optimizer = optim.Adam(model.parameters(), lr=0.001)\n",
        "criterion = nn.CrossEntropyLoss()\n",
        " \n",
        " \n",
        "for it in range(300):\n",
        "   \n",
        "  pred = model(input_seq)\n",
        " \n",
        "  pred_reshape = torch.reshape(pred, (-1,pred.shape[2]))\n",
        "  input_seq_reshape = input_seq[:,1:]\n",
        "  input_seq_reshape = torch.reshape(input_seq_reshape, (-1,))\n",
        "  \n",
        "  loss = criterion(pred_reshape,input_seq_reshape).sum()\n",
        "  loss.backward( retain_graph = True )                             # compute update for each parameter\n",
        "  optimizer.step()                            # make the updates for each parameter\n",
        "  optimizer.zero_grad()                       # a clean up step for PyTorch  \n",
        " \n",
        "  \n",
        "  if (it+1) % 50 == 0:\n",
        "    print(\"[Iter %d] Loss %f\" % (it+1, float(loss)))"
      ],
      "execution_count": null,
      "outputs": [
        {
          "output_type": "stream",
          "text": [
            "[Iter 50] Loss 0.103191\n",
            "[Iter 100] Loss 0.026909\n",
            "[Iter 150] Loss 0.016125\n",
            "[Iter 200] Loss 0.010982\n",
            "[Iter 250] Loss 0.008075\n",
            "[Iter 300] Loss 0.006239\n"
          ],
          "name": "stdout"
        }
      ]
    },
    {
      "cell_type": "code",
      "metadata": {
        "id": "aScYWbBx4KUQ"
      },
      "source": [
        "'''\n",
        "# amit\n",
        "model = AutoEncoder(vocab_size, 128, 128)\n",
        "optimizer = optim.Adam(model.parameters(), lr=0.001)\n",
        "criterion = nn.CrossEntropyLoss()\n",
        "\n",
        "\n",
        "for it in range(1):\n",
        " \n",
        "  # TODO - Not Complete\n",
        "   \n",
        "  pred = model(input_seq)\n",
        "\n",
        "  pred_reshape = torch.reshape(pred, (-1,pred.shape[2]))\n",
        "  input_seq_reshape = input_seq[:,1:]\n",
        "  input_seq_reshape = torch.reshape(input_seq_reshape, (-1,))\n",
        "  \n",
        "  loss = criterion(pred_new,input_seq_reshape).sum()\n",
        "  loss.backward( retain_graph = True )                             # compute update for each parameter\n",
        "  optimizer.step()                            # make the updates for each parameter\n",
        "  optimizer.zero_grad()                       # a clean up step for PyTorch  \n",
        "\n",
        "  \n",
        "  if (it+1) % 50 == 0:\n",
        "    print(\"[Iter %d] Loss %f\" % (it+1, float(loss)))\n",
        "    \n",
        "'''"
      ],
      "execution_count": null,
      "outputs": []
    },
    {
      "cell_type": "code",
      "metadata": {
        "id": "phxBSg217AgG"
      },
      "source": [
        "'''model = AutoEncoder(vocab_size, 128, 128)\n",
        "optimizer = optim.Adam(model.parameters(), lr=0.001)\n",
        "criterion = nn.CrossEntropyLoss()\n",
        " \n",
        "# TODO - Not Complete\n",
        "optimizer.zero_grad()                       # a clean up step for PyTorch   \n",
        "pred = model(input_seq)\n",
        "\n",
        "pred_reshape = torch.reshape(pred, (-1,pred.shape[2]))\n",
        "input_seq_reshape = input_seq[:,1:]\n",
        "input_seq_reshape = torch.reshape(input_seq_reshape, (-1,))\n",
        "print(pred_new.shape)\n",
        "print(input_seq_reshape.shape)\n",
        "loss = criterion(pred_new,input_seq_reshape)\n",
        "print(loss)\n",
        "loss.backward()                             # compute update for each parameter\n",
        "optimizer.step()                            # make the updates for each parameter\n",
        "\n",
        "print(\"[Iter %d] Loss %f\" % (it+1, float(loss)))\n",
        " '''   "
      ],
      "execution_count": null,
      "outputs": []
    },
    {
      "cell_type": "markdown",
      "metadata": {
        "id": "SWKYC3z34KUR"
      },
      "source": [
        "### Part (c) -- 4%\n",
        "\n",
        "Once you are satisfied with your model, encode your input using\n",
        "the RNN encoder, and sample some sequences from the decoder. The \n",
        "sampling code is provided to you, and performs the computation\n",
        "from the first diagram (without teacher forcing).\n",
        "\n",
        "Note that we are sampling from a multi-nomial distribution described\n",
        "by the logits $z^{(t)}$. For example, if our distribution is [80%, 20%]\n",
        "over a vocabulary of two words, then we will choose the first word\n",
        "with 80% probability and the second word with 20% probability.\n",
        "\n",
        "Call `sample_sequence` at least 5 times, with the default temperature\n",
        "value. Make sure to include the generated sequences in your PDF\n",
        "report."
      ]
    },
    {
      "cell_type": "code",
      "metadata": {
        "id": "6vjVvmn14KUR",
        "colab": {
          "base_uri": "https://localhost:8080/"
        },
        "outputId": "b59c31da-e4ba-47c0-9847-e62f43628758"
      },
      "source": [
        "def sample_sequence(model, hidden, max_len=20, temperature=1):\n",
        "    \"\"\"\n",
        "    Return a sequence generated from the model's decoder\n",
        "        - model: an instance of the AutoEncoder model\n",
        "        - hidden: a hidden state (e.g. computed by the encoder)\n",
        "        - max_len: the maximum length of the generated sequence\n",
        "        - temperature: described in Part (d)\n",
        "    \"\"\"\n",
        "    # We'll store our generated sequence here\n",
        "    generated_sequence = []\n",
        "    # Set input to the <BOS> token\n",
        "    inp = torch.Tensor([text_field.vocab.stoi[\"<bos>\"]]).long()\n",
        "    for p in range(max_len):\n",
        "        # compute the output and next hidden unit\n",
        "        output, hidden = model.decode(inp.unsqueeze(0), hidden)\n",
        "        # Sample from the network as a multinomial distribution\n",
        "        output_dist = output.data.view(-1).div(temperature).exp()\n",
        "        top_i = int(torch.multinomial(output_dist, 1)[0])\n",
        "        # Add predicted word to string and use as next input\n",
        "        word = text_field.vocab.itos[top_i]\n",
        "        # Break early if we reach <eos>\n",
        "        if word == \"<eos>\":\n",
        "            break\n",
        "        generated_sequence.append(word)\n",
        "        inp = torch.Tensor([top_i]).long()\n",
        "    return generated_sequence\n",
        " \n",
        "h = model.encode(input_seq)\n",
        "gen_sq = sample_sequence(model=model, hidden=h, max_len=20, temperature=1)\n",
        "print(\"Input :\", end =\" \")\n",
        "print(headline[1:-1])\n",
        "print(\"Output:\", end =\" \")\n",
        "print(gen_sq)"
      ],
      "execution_count": null,
      "outputs": [
        {
          "output_type": "stream",
          "text": [
            "Input : ['zambian', 'president', 'swears', 'in', 'new', 'army', 'chief']\n",
            "Output: ['zambian', 'president', 'swears', 'in', 'new', 'army', 'chief']\n"
          ],
          "name": "stdout"
        }
      ]
    },
    {
      "cell_type": "markdown",
      "metadata": {
        "id": "0T7gcPnn4KUR"
      },
      "source": [
        "### Part (d) -- 6%\n",
        "\n",
        "The multi-nomial distribution can be manipulated using the `temperature`\n",
        "setting. This setting can be used to make the distribution \"flatter\" (e.g.\n",
        "more likely to generate different words) or \"peakier\" (e.g. less likely\n",
        "to generate different words).\n",
        "\n",
        "Call `sample_sequence` at least 5 times each for at least 3 different\n",
        "temperature settings (e.g. 1.5, 2, and 5). Explain why we generally\n",
        "don't want the temperature setting to be too **large**."
      ]
    },
    {
      "cell_type": "code",
      "metadata": {
        "id": "jA_S0cmE4KUR",
        "colab": {
          "base_uri": "https://localhost:8080/"
        },
        "outputId": "a463a5f5-bd41-4623-82e6-67a604fa1a8f"
      },
      "source": [
        "h = model.encode(input_seq)\n",
        "print(\"Input: \", end =\" \")\n",
        "print(headline[1:-1])\n",
        "tm_set = (1.5, 2, 5)\n",
        "for tm in tm_set:\n",
        "  print(\"Temperature = \"+str(tm)+\":\")\n",
        "  for i in range(5):\n",
        "    gen_sq = sample_sequence(model=model, hidden=h, max_len=20, temperature=tm)\n",
        "    print(str(i+1) +\") \", end =\" \")\n",
        "    print(gen_sq)"
      ],
      "execution_count": null,
      "outputs": [
        {
          "output_type": "stream",
          "text": [
            "Input:  ['zambian', 'president', 'swears', 'in', 'new', 'army', 'chief']\n",
            "Temperature = 1.5:\n",
            "1)  ['zambian', 'president', 'oregon', 'rolls-royce', '-cnbc', 'exercises', 'var', 'virgin', 'in', 'new', 'leaks', 'zambian', 'reservations', 'new', 'army', 'chief', 'medal', 'roles', 'regrettable', 'dampen']\n",
            "2)  ['zambian', 'swift', 'army', 'chief', 'appears', 'denel', 'delivers', 'ryan', 'hope', 'kenin']\n",
            "3)  ['pernod', 'bndes', 'swears', 'in', '_num_-investor', 'mcilroy', 'eke', 'swap', 'swears', 'in', 'pro-government', 'phase', 'taylor', '_num_-motor', 'safe-havens', 'improved', 'information', 'reporters', 'mind', 'balkan']\n",
            "4)  ['zambian', 'president', 'individuals', 'in', 'new', 'tip', 'dozen', 'filing']\n",
            "5)  ['zambian', 'invests', 'president', 'swears', 'h1', 'mistake', 'insecurity', 'firms', 'reais']\n",
            "Temperature = 2:\n",
            "1)  ['residents', 'forbes', 'dialogue', 'mourinho', 'departs', 'texts', 'concessions', 'forces', 'faster', 'legacy', 'played', 'swears', 'in', 'aircraft', 'bombshell', 'army', 'pens', 'exposed', 'prisoners', 'markets-dollar']\n",
            "2)  ['basin', 'agent', 'alleging', 'cup', 'erases', 'markets-brazilian', 'paulo', 'fix', 'title', 'joy', 'loyal', 'president', 'jan.', 'extremist', 'new', 'hospital', 'burst', 'dissident', 'commodities', '-traders']\n",
            "3)  ['portfolio', 'tepid', 'onshore', 'military', 'mid-atlantic', 'hacking', 'care', 'refile-us']\n",
            "4)  ['unaware', 'licenses', 'tumble', 'chief', 'rutte', 'congolese', 'virus-hit', 'denel', 'galactic', 'national', 'chase', 'dairy', '100,000', 'chief', 'tribute', 'reagan', 'demise', 'non-binding', 'downed', 'priority']\n",
            "5)  ['medvedev', 'debt-c', 'milestone', 'organic', 'bladder', '_num_-target', 'snowstorm', 'animal', 'chief', 'dhabi', 'stand-off', 'unchanged', 'skills', 'dock', 'vertex', 'name', 'repatriation', 'dior', 'freeland', 'maiden']\n",
            "Temperature = 5:\n",
            "1)  ['demanding', 'origins', '-wsj', 'u.s.-mexico-canada', 'contractors', 'botched', '-cnbc', 'leaves', 'her', 'buffett', 'ski', 'safely', 'illinois', 'electoral', 'david', 'difficult', 'driverless', 'franc', 'urge', 'middle']\n",
            "2)  ['african', 'quotas', '_num_-shares', 'wada', 'leadership', 'revamped', 'mcdonald', 'damascus', 'campaigners', 'detects', 'eke', 'wildfire', 'hung', 'novel', 'passports', 'nikkei', 'request', 'problems', 'reinstates', 'marred']\n",
            "3)  ['bearish', 'wednesday', 'terminals', 'capri', 'votes', 'america', 'stabbing', 'kidnapped', 'relation', 'class', 'investigating', 'inject', 'searching', 'elon', 'forex-euro', 'outage', 'cars', 'disappoint', 'received', 'biggest']\n",
            "4)  ['network', 'parents', 'fox', 'spokesman', 'blackrock', 'astrazeneca', 'based', 'no-deal', 'additions', 'reaches', 'targeted', 'mount', 'lane', 'chuquicamata', 'mitiga', 'collective', 'moments', 'talent', 'solution', 'picture']\n",
            "5)  ['offensive', 'green', 'dwindles', 'cabin', 'capped', 'nations', 'francis', 'promising', 'chosen', 'albemarle', 'stamps', 'travellers', 'practice', 'shortly', 'florida', 'santiago', 'task', 'test', 'baker', 'second-quarter']\n"
          ],
          "name": "stdout"
        }
      ]
    },
    {
      "cell_type": "markdown",
      "metadata": {
        "id": "wZkJ_b_0lA37"
      },
      "source": [
        "**Answer**:\n",
        "\n",
        "We may naturally prefer not setting the temperature to be excessively large, mostly because, as we increase the temperature - the variance increases, thus less words from the original input headline appears in the outcome. \n",
        "\n",
        "It also been observed that the possible sentences becoming longer with less correlation between the words.\n",
        "\n",
        "Both of those reasons results with illogical outputs sentences.\n",
        "\n",
        "For the given example:\n",
        "* 1.5 for the temperature: contains the largest amount of the words from the input headline, from all of the given temperatures settings.\n",
        "* 2 for the temperature: there is a decline in the appearing of the original words.\n",
        "* 5 for the temperature: there are no words from the original inputted headline at all. \n"
      ]
    },
    {
      "cell_type": "markdown",
      "metadata": {
        "id": "ZK4ptUb54KUS"
      },
      "source": [
        "## Question 3. Data augmentation (20%)\n",
        "\n",
        "It turns out that getting good results from a text auto-encoder is very difficult,\n",
        "and that it is very easy for our model to **overfit**. We have discussed several methods\n",
        "that we can use to prevent overfitting, and we'll introduce one more today:\n",
        "**data augmentation**.\n",
        "\n",
        "The idea behind data augmentation is to artificially increase the number of training\n",
        "examples by \"adding noise\" to the image. For example, during AlexNet training,\n",
        "the authors randomly cropped $224\\times 224$\n",
        "regions of a $256 \\times 256$ pixel image to increase the amount of training data.\n",
        "The authors also flipped the image left/right.\n",
        "Machine learning practitioners can also add Gaussian noise to the image.\n",
        "\n",
        "When we use data augmentation to train an *autoencoder*, we typically to only add\n",
        "the noise to the input, and expect the reconstruction to be *noise free*.\n",
        "This makes the task of the autoencoder even more difficult. An autoencoder trained\n",
        "with noisy inputs is called a **denoising auto-encoder**. For simplicity, we will\n",
        "*not* build a denoising autoencoder today.\n",
        "\n"
      ]
    },
    {
      "cell_type": "markdown",
      "metadata": {
        "id": "yieWyWqS4KUS"
      },
      "source": [
        "### Part (a) -- 5%\n",
        "\n",
        "We will add noise to our headlines using a few different techniques:\n",
        "\n",
        "1. Shuffle the words in the headline, taking care that words don't end up too far from where they were initially\n",
        "2. Drop (remove) some words \n",
        "3. Replace some words with a blank word (a `<pad>` token)\n",
        "4. Replace some words with a random word \n",
        "\n",
        "The code for adding these types of noise is provided for you:"
      ]
    },
    {
      "cell_type": "code",
      "metadata": {
        "id": "IGb3uL5U4KUS"
      },
      "source": [
        "def tokenize_and_randomize(headline,\n",
        "                           drop_prob=0.1,  # probability of dropping a word\n",
        "                           blank_prob=0.1, # probability of \"blanking\" out a word\n",
        "                           sub_prob=0.1,   # probability of substituting a word with a random one\n",
        "                           shuffle_dist=3): # maximum distance to shuffle a word\n",
        "    \"\"\"\n",
        "    Add 'noise' to a headline by slightly shuffling the word order,\n",
        "    dropping some words, blanking out some words (replacing with the <pad> token)\n",
        "    and substituting some words with random ones.\n",
        "    \"\"\"\n",
        "    headline = [vocab.stoi[w] for w in headline]\n",
        "    n = len(headline)\n",
        "    # shuffle\n",
        "    headline = [headline[i] for i in get_shuffle_index(n, shuffle_dist)]\n",
        "\n",
        "    new_headline = [vocab.stoi['<bos>']]\n",
        "    for w in headline:\n",
        "        if random.random() < drop_prob:\n",
        "            # drop the word\n",
        "            pass\n",
        "        elif random.random() < blank_prob:\n",
        "            # replace with blank word\n",
        "            new_headline.append(vocab.stoi[\"<pad>\"])\n",
        "        elif random.random() < sub_prob:\n",
        "            # substitute word with another word\n",
        "            new_headline.append(random.randint(0, vocab_size - 1))\n",
        "        else:\n",
        "            # keep the original word\n",
        "            new_headline.append(w)\n",
        "    new_headline.append(vocab.stoi['<eos>'])\n",
        "    return new_headline\n",
        "\n",
        "def get_shuffle_index(n, max_shuffle_distance):\n",
        "    \"\"\" This is a helper function used to shuffle a headline with n words,\n",
        "    where each word is moved at most max_shuffle_distance. The function does\n",
        "    the following: \n",
        "       1. start with the *unshuffled* index of each word, which\n",
        "          is just the values [0, 1, 2, ..., n]\n",
        "       2. perturb these \"index\" values by a random floating-point value between\n",
        "          [0, max_shuffle_distance]\n",
        "       3. use the sorted position of these values as our new index\n",
        "    \"\"\"\n",
        "    index = np.arange(n)\n",
        "    perturbed_index = index + np.random.rand(n) * 3\n",
        "    new_index = sorted(enumerate(perturbed_index), key=lambda x: x[1])\n",
        "    return [index for (index, pert) in new_index]"
      ],
      "execution_count": null,
      "outputs": []
    },
    {
      "cell_type": "markdown",
      "metadata": {
        "id": "h8t6eZgy4KUT"
      },
      "source": [
        "Call the function `tokenize_and_randomize` 5 times on a headline of your\n",
        "choice. Make sure to include both your original headline, and the five new\n",
        "headlines in your report."
      ]
    },
    {
      "cell_type": "code",
      "metadata": {
        "id": "CktsYMIE4KUT",
        "colab": {
          "base_uri": "https://localhost:8080/"
        },
        "outputId": "4bcc75e1-be19-47f1-ae28-2e963e4761d8"
      },
      "source": [
        "hdln = train_data[1193].title \n",
        "hdln = hdln[1:-1]\n",
        "print(\"Original headline:\", end =\" \")\n",
        "print(hdln)\n",
        "\n",
        "print(\"Augmentet headlines:\")\n",
        "for i in range(5):\n",
        "  print(str(i+1) +\") \", end =\" \")\n",
        "\n",
        "  augm = tokenize_and_randomize(headline=hdln)\n",
        "  sentence = []\n",
        "  for w_idx in augm:\n",
        "    wrd = vocab.itos[w_idx]\n",
        "    sentence.append(wrd)\n",
        "  print(sentence[1:-1])"
      ],
      "execution_count": null,
      "outputs": [
        {
          "output_type": "stream",
          "text": [
            "Original headline: ['syrian', 'opposition', 'says', 'surprised', 'by', 'countries', 'reconciling', 'with', 'assad']\n",
            "Augmentet headlines:\n",
            "1)  ['syrian', 'says', 'reports', 'countries', 'with', '<unk>', 'charts']\n",
            "2)  ['<pad>', 'opposition', 'surprised', 'by', 'says', 'countries', 'with', '<unk>', 'assad']\n",
            "3)  ['syrian', 'opposition', 'says', 'countries', '<unk>', 'assad', 'with']\n",
            "4)  ['syrian', 'opposition', '<pad>', 'by', 'assad', 'with']\n",
            "5)  ['syrian', 'opposition', 'surprised', 'says', 'by', 'countries', 'with', '<unk>']\n"
          ],
          "name": "stdout"
        }
      ]
    },
    {
      "cell_type": "markdown",
      "metadata": {
        "id": "rHKlJr_m4KUT"
      },
      "source": [
        "### Part (b) -- 8%\n",
        "\n",
        "The training code that we use to train the model is mostly provided for you. \n",
        "The only part we left blank are the parts from Q2(b). Complete the code,\n",
        "and train a new AutoEncoder model for 1 epoch. You can train your model\n",
        "for longer if you want, but training tend to take a long time,\n",
        "so we're only checking to see that your training loss is trending down.\n",
        "\n",
        "If you are using Google Colab, you can use a GPU for this portion.\n",
        "Go to \"Runtime\" => \"Change Runtime Type\"  and set \"Hardware acceleration\" to GPU.\n",
        "Your Colab session will restart.\n",
        "You can move your model to the GPU by typing `model.cuda()`, and move\n",
        "other tensors to GPU (e.g. `xs = xs.cuda()`). To move a model back to CPU,\n",
        "type `model.cpu`. To move a tensor back, use `xs = xs.cpu()`. For training,\n",
        "your model and inputs need to be on the *same device*."
      ]
    },
    {
      "cell_type": "code",
      "metadata": {
        "id": "9IXnUFUJ4KUT"
      },
      "source": [
        "'''\n",
        "def train_autoencoder(model, batch_size=64, learning_rate=0.001, num_epochs=10):\n",
        "    model.train()\n",
        "    optimizer = optim.Adam(model.parameters(), lr=learning_rate)\n",
        "    criterion = nn.CrossEntropyLoss()\n",
        "\n",
        "    for ep in range(num_epochs):\n",
        "        # We will perform data augmentation by re-reading the input each time\n",
        "        field = data.Field(sequential=True,\n",
        "                                      tokenize=tokenize_and_randomize, # <-- data augmentation\n",
        "                                      include_lengths=True,\n",
        "                                      batch_first=True,\n",
        "                                      use_vocab=False, # <-- the tokenization function replaces this\n",
        "                                      pad_token=vocab.stoi['<pad>'])\n",
        "        dataset = data.TabularDataset(train_path, \"tsv\", [('title', field)])\n",
        "\n",
        "        # This BucketIterator will handle padding of sequences that are not of the same length\n",
        "        train_iter = data.BucketIterator(dataset,\n",
        "                                          batch_size=batch_size,\n",
        "                                          sort_key=lambda x: len(x.title), # to minimize padding\n",
        "                                          repeat=False)\n",
        "        for it, ((xs, lengths), _) in enumerate(train_iter):\n",
        "            pred = model(xs)\n",
        "\n",
        "            pred_reshape = torch.reshape(pred, (-1,pred.shape[2]))\n",
        "            input_seq_reshape = xs[:,1:]\n",
        "            input_seq_reshape = torch.reshape(input_seq_reshape, (-1,))\n",
        "\n",
        "            loss = criterion(pred_reshape,input_seq_reshape).sum()\n",
        "            loss.backward( retain_graph = True ) # compute update for each parameter\n",
        "            optimizer.step() # make the updates for each parameter\n",
        "            optimizer.zero_grad()   \n",
        "\n",
        "            if (it+1) % 100 == 0:\n",
        "                print(\"[Iter %d] Loss %f\" % (it+1, float(loss)))\n",
        "\n",
        "            # Optional: Compute and track validation loss\n",
        "            #val_loss = 0\n",
        "            #val_n = 0\n",
        "            #for it, ((xs, lengths), _) in enumerate(valid_iter):\n",
        "            #    zs = model(xs)\n",
        "            #    loss = criterion(zs,xs).sum()\n",
        "            #    val_loss += float(loss)\n",
        "\n",
        "'''\n",
        "# Include your training curve or output to show that your training loss is trending down"
      ],
      "execution_count": null,
      "outputs": []
    },
    {
      "cell_type": "code",
      "metadata": {
        "colab": {
          "base_uri": "https://localhost:8080/"
        },
        "id": "dILV9Gqv-OoI",
        "outputId": "b63d0411-cfcb-43e2-975f-a27728b754b0"
      },
      "source": [
        "'''model = AutoEncoder(vocab_size, 128, 128)\n",
        "train_autoencoder(model, batch_size=64, learning_rate=0.001, num_epochs=1)'''"
      ],
      "execution_count": null,
      "outputs": [
        {
          "output_type": "stream",
          "text": [
            "[Iter 100] Loss 0.659577\n",
            "[Iter 200] Loss 0.503200\n",
            "[Iter 300] Loss 0.488491\n",
            "[Iter 400] Loss 0.360810\n",
            "[Iter 500] Loss 0.327694\n",
            "[Iter 600] Loss 0.202819\n",
            "[Iter 700] Loss 0.131260\n",
            "[Iter 800] Loss 0.081393\n",
            "[Iter 900] Loss 0.033916\n",
            "[Iter 1000] Loss 0.020573\n",
            "[Iter 1100] Loss 0.012692\n",
            "[Iter 1200] Loss 0.008000\n",
            "[Iter 1300] Loss 0.006637\n",
            "[Iter 1400] Loss 0.006269\n",
            "[Iter 1500] Loss 0.004268\n",
            "[Iter 1600] Loss 0.003764\n",
            "[Iter 1700] Loss 0.002854\n",
            "[Iter 1800] Loss 0.002688\n",
            "[Iter 1900] Loss 0.002601\n",
            "[Iter 2000] Loss 0.002093\n",
            "[Iter 2100] Loss 0.001855\n",
            "[Iter 2200] Loss 0.001766\n",
            "[Iter 2300] Loss 0.001477\n",
            "[Iter 2400] Loss 0.001333\n",
            "[Iter 2500] Loss 0.001282\n",
            "[Iter 2600] Loss 0.001083\n"
          ],
          "name": "stdout"
        }
      ]
    },
    {
      "cell_type": "code",
      "metadata": {
        "colab": {
          "base_uri": "https://localhost:8080/",
          "height": 1000
        },
        "id": "bFrk5UvHwW2e",
        "outputId": "d72f6b07-60cc-421b-cc7d-61e261b5ab89"
      },
      "source": [
        "def train_autoencoder(model, batch_size=64, learning_rate=0.001, num_epochs=10):\n",
        "    model.cuda() \n",
        "    #model.cpu\n",
        "    model.train()\n",
        "    optimizer = optim.Adam(model.parameters(), lr=learning_rate)\n",
        "    criterion = nn.CrossEntropyLoss()\n",
        "\n",
        "    max_iter = 0\n",
        "    losses, iters = [], []\n",
        "    #val_losses =[]\n",
        "    for ep in range(num_epochs):\n",
        "        print(\"Epoch \" + str(ep))\n",
        "        # We will perform data augmentation by re-reading the input each time\n",
        "        field = data.Field(sequential=True,\n",
        "                                      tokenize=tokenize_and_randomize, # <-- data augmentation\n",
        "                                      include_lengths=True,\n",
        "                                      batch_first=True,\n",
        "                                      use_vocab=False, # <-- the tokenization function replaces this\n",
        "                                      pad_token=vocab.stoi['<pad>'])\n",
        "        dataset = data.TabularDataset(train_path, \"tsv\", [('title', field)])\n",
        "\n",
        "\n",
        "        # This BucketIterator will handle padding of sequences that are not of the same length\n",
        "        train_iter = data.BucketIterator(dataset,\n",
        "                                          batch_size=batch_size,\n",
        "                                          sort_key=lambda x: len(x.title), # to minimize padding\n",
        "                                          repeat=False)\n",
        "        for it, ((xs, lengths), _) in enumerate(train_iter):\n",
        "            xs = xs.cuda()\n",
        "            pred = model(xs)\n",
        "            \n",
        "            pred_reshape = torch.reshape(pred, (-1,pred.shape[2]))\n",
        "            input_seq_reshape = xs[:,1:]\n",
        "            input_seq_reshape = torch.reshape(input_seq_reshape, (-1,))\n",
        "\n",
        "            loss = criterion(pred_reshape,input_seq_reshape).sum()\n",
        "            loss.backward( retain_graph = True ) # compute update for each parameter\n",
        "            optimizer.step() # make the updates for each parameter\n",
        "            optimizer.zero_grad()\n",
        "\n",
        "            \n",
        "\n",
        "            # Optional: Compute and track validation loss\n",
        "            #val_loss = 0\n",
        "            #val_n = 0\n",
        "            #for it, ((xs, lengths), _) in enumerate(valid_iter):\n",
        "            #    zs = model(xs)\n",
        "            #    loss = criterion(zs,xs).sum()\n",
        "            #    val_loss += float(loss)\n",
        "            \n",
        "            if (it+1) % 100 == 0: \n",
        "                print(\"[Iter %d] Loss %f\" % (it+1, float(loss)))\n",
        "                it_n = ep * max_iter + it+1\n",
        "                iters.append(it_n)\n",
        "                losses.append(float(loss))\n",
        "                #val_losses.append(float(val_loss))\n",
        "        max_iter = it+1\n",
        "    \n",
        "    model.cpu\n",
        "\n",
        "    # Prepare data    \n",
        "    iters = np.array(iters)\n",
        "    losses = np.array(losses)\n",
        "    #val_losses = np.array(val_losses)\n",
        "\n",
        "    # Plot the training curve\n",
        "    plt.title(\"Learning Curve: Loss per Iteration\")\n",
        "    plt.plot(iters, losses, label=\"Train\")\n",
        "    plt.xlabel(\"Iterations\")\n",
        "    plt.ylabel(\"Loss\")\n",
        "    plt.show()\n",
        "\n",
        "\n",
        "\n",
        "# Include your training curve or output to show that your training loss is trending down\n",
        "model = AutoEncoder(vocab_size, 128, 128)\n",
        "train_autoencoder(model, batch_size=64, learning_rate=0.001, num_epochs=10)"
      ],
      "execution_count": null,
      "outputs": [
        {
          "output_type": "stream",
          "text": [
            "Epoch 0\n",
            "[Iter 100] Loss 2.527606\n",
            "[Iter 200] Loss 2.468636\n",
            "[Iter 300] Loss 2.441853\n",
            "[Iter 400] Loss 2.511398\n",
            "[Iter 500] Loss 2.465988\n",
            "[Iter 600] Loss 2.511451\n",
            "[Iter 700] Loss 2.617448\n",
            "[Iter 800] Loss 2.310770\n",
            "[Iter 900] Loss 2.434045\n",
            "[Iter 1000] Loss 2.363087\n",
            "[Iter 1100] Loss 2.299358\n",
            "[Iter 1200] Loss 2.401775\n",
            "[Iter 1300] Loss 2.433352\n",
            "[Iter 1400] Loss 2.283909\n",
            "[Iter 1500] Loss 2.543908\n",
            "[Iter 1600] Loss 2.016899\n",
            "[Iter 1700] Loss 2.265496\n",
            "[Iter 1800] Loss 2.663023\n",
            "[Iter 1900] Loss 2.152513\n",
            "[Iter 2000] Loss 2.101025\n",
            "[Iter 2100] Loss 2.193232\n",
            "[Iter 2200] Loss 2.183590\n",
            "[Iter 2300] Loss 2.162126\n",
            "[Iter 2400] Loss 2.101472\n",
            "[Iter 2500] Loss 2.200275\n",
            "[Iter 2600] Loss 2.266797\n",
            "Epoch 1\n",
            "[Iter 100] Loss 2.211490\n",
            "[Iter 200] Loss 2.254715\n",
            "[Iter 300] Loss 2.053586\n",
            "[Iter 400] Loss 1.949518\n",
            "[Iter 500] Loss 1.918189\n",
            "[Iter 600] Loss 2.095116\n",
            "[Iter 700] Loss 2.100752\n",
            "[Iter 800] Loss 2.212242\n",
            "[Iter 900] Loss 2.096970\n",
            "[Iter 1000] Loss 2.038052\n",
            "[Iter 1100] Loss 2.067373\n",
            "[Iter 1200] Loss 2.179970\n",
            "[Iter 1300] Loss 1.577055\n",
            "[Iter 1400] Loss 1.982650\n",
            "[Iter 1500] Loss 2.109055\n",
            "[Iter 1600] Loss 2.071373\n",
            "[Iter 1700] Loss 2.133854\n",
            "[Iter 1800] Loss 2.140198\n",
            "[Iter 1900] Loss 1.707946\n",
            "[Iter 2000] Loss 2.257347\n",
            "[Iter 2100] Loss 1.935053\n",
            "[Iter 2200] Loss 2.041567\n",
            "[Iter 2300] Loss 2.093872\n",
            "[Iter 2400] Loss 1.989159\n",
            "[Iter 2500] Loss 1.960676\n",
            "[Iter 2600] Loss 1.875070\n",
            "Epoch 2\n",
            "[Iter 100] Loss 2.031921\n",
            "[Iter 200] Loss 2.022674\n",
            "[Iter 300] Loss 2.009073\n",
            "[Iter 400] Loss 1.895192\n",
            "[Iter 500] Loss 1.913489\n",
            "[Iter 600] Loss 1.908301\n",
            "[Iter 700] Loss 2.162522\n",
            "[Iter 800] Loss 1.750598\n",
            "[Iter 900] Loss 1.917496\n",
            "[Iter 1000] Loss 1.625327\n",
            "[Iter 1100] Loss 1.947224\n",
            "[Iter 1200] Loss 2.018059\n",
            "[Iter 1300] Loss 1.675233\n",
            "[Iter 1400] Loss 1.833837\n",
            "[Iter 1500] Loss 1.830830\n",
            "[Iter 1600] Loss 1.766907\n",
            "[Iter 1700] Loss 1.600175\n",
            "[Iter 1800] Loss 1.992490\n",
            "[Iter 1900] Loss 1.807895\n",
            "[Iter 2000] Loss 1.816756\n",
            "[Iter 2100] Loss 1.803151\n",
            "[Iter 2200] Loss 1.990305\n",
            "[Iter 2300] Loss 1.879312\n",
            "[Iter 2400] Loss 1.813530\n",
            "[Iter 2500] Loss 2.016708\n",
            "[Iter 2600] Loss 2.078932\n",
            "Epoch 3\n",
            "[Iter 100] Loss 1.880595\n",
            "[Iter 200] Loss 1.802324\n",
            "[Iter 300] Loss 1.911558\n",
            "[Iter 400] Loss 1.790117\n",
            "[Iter 500] Loss 2.045859\n",
            "[Iter 600] Loss 1.950211\n",
            "[Iter 700] Loss 1.973041\n",
            "[Iter 800] Loss 1.679859\n",
            "[Iter 900] Loss 1.735942\n",
            "[Iter 1000] Loss 1.942980\n",
            "[Iter 1100] Loss 1.832662\n",
            "[Iter 1200] Loss 1.954228\n",
            "[Iter 1300] Loss 1.858953\n",
            "[Iter 1400] Loss 1.964244\n",
            "[Iter 1500] Loss 1.722031\n",
            "[Iter 1600] Loss 2.027869\n",
            "[Iter 1700] Loss 1.903651\n",
            "[Iter 1800] Loss 1.946490\n",
            "[Iter 1900] Loss 1.776857\n",
            "[Iter 2000] Loss 1.827438\n",
            "[Iter 2100] Loss 1.908995\n",
            "[Iter 2200] Loss 1.832108\n",
            "[Iter 2300] Loss 1.963661\n",
            "[Iter 2400] Loss 1.954535\n",
            "[Iter 2500] Loss 1.886177\n",
            "[Iter 2600] Loss 1.904860\n",
            "Epoch 4\n",
            "[Iter 100] Loss 1.764878\n",
            "[Iter 200] Loss 1.933945\n",
            "[Iter 300] Loss 1.867038\n",
            "[Iter 400] Loss 1.734959\n",
            "[Iter 500] Loss 1.692304\n",
            "[Iter 600] Loss 1.627347\n",
            "[Iter 700] Loss 1.856024\n",
            "[Iter 800] Loss 1.625979\n",
            "[Iter 900] Loss 1.983394\n",
            "[Iter 1000] Loss 1.898938\n",
            "[Iter 1100] Loss 1.855685\n",
            "[Iter 1200] Loss 1.684664\n",
            "[Iter 1300] Loss 1.863338\n",
            "[Iter 1400] Loss 1.947116\n",
            "[Iter 1500] Loss 1.771772\n",
            "[Iter 1600] Loss 1.840814\n",
            "[Iter 1700] Loss 1.844813\n",
            "[Iter 1800] Loss 1.893789\n",
            "[Iter 1900] Loss 1.747263\n",
            "[Iter 2000] Loss 1.905916\n",
            "[Iter 2100] Loss 1.879239\n",
            "[Iter 2200] Loss 1.713523\n",
            "[Iter 2300] Loss 1.754627\n",
            "[Iter 2400] Loss 1.784333\n",
            "[Iter 2500] Loss 1.929189\n",
            "[Iter 2600] Loss 1.812662\n",
            "Epoch 5\n",
            "[Iter 100] Loss 1.717537\n",
            "[Iter 200] Loss 1.822006\n",
            "[Iter 300] Loss 1.575634\n",
            "[Iter 400] Loss 1.831697\n",
            "[Iter 500] Loss 1.661880\n",
            "[Iter 600] Loss 1.921058\n",
            "[Iter 700] Loss 1.770223\n",
            "[Iter 800] Loss 1.841710\n",
            "[Iter 900] Loss 1.714883\n",
            "[Iter 1000] Loss 1.723453\n",
            "[Iter 1100] Loss 1.840916\n",
            "[Iter 1200] Loss 1.803573\n",
            "[Iter 1300] Loss 1.592245\n",
            "[Iter 1400] Loss 1.917934\n",
            "[Iter 1500] Loss 1.505492\n",
            "[Iter 1600] Loss 1.832587\n",
            "[Iter 1700] Loss 1.682159\n",
            "[Iter 1800] Loss 1.823857\n",
            "[Iter 1900] Loss 1.851969\n",
            "[Iter 2000] Loss 1.578841\n",
            "[Iter 2100] Loss 1.813404\n",
            "[Iter 2200] Loss 1.531699\n",
            "[Iter 2300] Loss 1.909394\n",
            "[Iter 2400] Loss 1.739092\n",
            "[Iter 2500] Loss 1.568434\n",
            "[Iter 2600] Loss 1.651982\n",
            "Epoch 6\n",
            "[Iter 100] Loss 1.777838\n",
            "[Iter 200] Loss 1.562487\n",
            "[Iter 300] Loss 1.339912\n",
            "[Iter 400] Loss 1.689798\n",
            "[Iter 500] Loss 1.692287\n",
            "[Iter 600] Loss 1.801104\n",
            "[Iter 700] Loss 1.783838\n",
            "[Iter 800] Loss 1.721084\n",
            "[Iter 900] Loss 1.603738\n",
            "[Iter 1000] Loss 1.616114\n",
            "[Iter 1100] Loss 1.544720\n",
            "[Iter 1200] Loss 1.787267\n",
            "[Iter 1300] Loss 1.525311\n",
            "[Iter 1400] Loss 1.707694\n",
            "[Iter 1500] Loss 1.739637\n",
            "[Iter 1600] Loss 1.794711\n",
            "[Iter 1700] Loss 1.758454\n",
            "[Iter 1800] Loss 1.646814\n",
            "[Iter 1900] Loss 1.682451\n",
            "[Iter 2000] Loss 1.652869\n",
            "[Iter 2100] Loss 1.642928\n",
            "[Iter 2200] Loss 1.691167\n",
            "[Iter 2300] Loss 1.560334\n",
            "[Iter 2400] Loss 1.664535\n",
            "[Iter 2500] Loss 1.663094\n",
            "[Iter 2600] Loss 1.664362\n",
            "Epoch 7\n",
            "[Iter 100] Loss 1.686535\n",
            "[Iter 200] Loss 1.595328\n",
            "[Iter 300] Loss 1.880706\n",
            "[Iter 400] Loss 1.683560\n",
            "[Iter 500] Loss 1.762098\n",
            "[Iter 600] Loss 1.604855\n",
            "[Iter 700] Loss 1.736224\n",
            "[Iter 800] Loss 1.669702\n",
            "[Iter 900] Loss 1.567178\n",
            "[Iter 1000] Loss 1.503718\n",
            "[Iter 1100] Loss 1.700329\n",
            "[Iter 1200] Loss 1.569889\n",
            "[Iter 1300] Loss 1.619601\n",
            "[Iter 1400] Loss 1.571930\n",
            "[Iter 1500] Loss 1.716551\n",
            "[Iter 1600] Loss 1.619649\n",
            "[Iter 1700] Loss 1.883420\n",
            "[Iter 1800] Loss 1.769244\n",
            "[Iter 1900] Loss 1.642026\n",
            "[Iter 2000] Loss 1.674347\n",
            "[Iter 2100] Loss 1.494724\n",
            "[Iter 2200] Loss 1.519211\n",
            "[Iter 2300] Loss 1.612404\n",
            "[Iter 2400] Loss 1.614451\n",
            "[Iter 2500] Loss 1.445382\n",
            "[Iter 2600] Loss 1.658546\n",
            "Epoch 8\n",
            "[Iter 100] Loss 1.745218\n",
            "[Iter 200] Loss 1.559897\n",
            "[Iter 300] Loss 1.660750\n",
            "[Iter 400] Loss 1.537770\n",
            "[Iter 500] Loss 1.643376\n",
            "[Iter 600] Loss 1.591923\n",
            "[Iter 700] Loss 1.688274\n",
            "[Iter 800] Loss 1.625467\n",
            "[Iter 900] Loss 1.630294\n",
            "[Iter 1000] Loss 1.654242\n",
            "[Iter 1100] Loss 1.496433\n",
            "[Iter 1200] Loss 1.632552\n",
            "[Iter 1300] Loss 1.564475\n",
            "[Iter 1400] Loss 1.525404\n",
            "[Iter 1500] Loss 1.582529\n",
            "[Iter 1600] Loss 1.625668\n",
            "[Iter 1700] Loss 1.849087\n",
            "[Iter 1800] Loss 1.628953\n",
            "[Iter 1900] Loss 1.739387\n",
            "[Iter 2000] Loss 1.787530\n",
            "[Iter 2100] Loss 1.623564\n",
            "[Iter 2200] Loss 1.636854\n",
            "[Iter 2300] Loss 1.593303\n",
            "[Iter 2400] Loss 1.571515\n",
            "[Iter 2500] Loss 1.545393\n",
            "[Iter 2600] Loss 1.703493\n",
            "Epoch 9\n",
            "[Iter 100] Loss 1.536851\n",
            "[Iter 200] Loss 1.543490\n",
            "[Iter 300] Loss 1.524628\n",
            "[Iter 400] Loss 1.646659\n",
            "[Iter 500] Loss 1.661937\n",
            "[Iter 600] Loss 1.752152\n",
            "[Iter 700] Loss 1.569047\n",
            "[Iter 800] Loss 1.616985\n",
            "[Iter 900] Loss 1.694529\n",
            "[Iter 1000] Loss 1.649150\n",
            "[Iter 1100] Loss 1.690007\n",
            "[Iter 1200] Loss 1.642454\n",
            "[Iter 1300] Loss 1.614590\n",
            "[Iter 1400] Loss 1.525986\n",
            "[Iter 1500] Loss 1.656843\n",
            "[Iter 1600] Loss 1.454379\n",
            "[Iter 1700] Loss 1.598843\n",
            "[Iter 1800] Loss 1.484175\n",
            "[Iter 1900] Loss 1.609222\n",
            "[Iter 2000] Loss 1.629212\n",
            "[Iter 2100] Loss 1.584957\n",
            "[Iter 2200] Loss 1.584664\n",
            "[Iter 2300] Loss 1.483566\n",
            "[Iter 2400] Loss 1.580545\n",
            "[Iter 2500] Loss 1.707641\n",
            "[Iter 2600] Loss 1.829552\n"
          ],
          "name": "stdout"
        },
        {
          "output_type": "display_data",
          "data": {
            "image/png": "[encoded data removed]",
            "text/plain": [
              "<Figure size 432x288 with 1 Axes>"
            ]
          },
          "metadata": {
            "tags": [],
            "needs_background": "light"
          }
        }
      ]
    },
    {
      "cell_type": "code",
      "metadata": {
        "id": "dDwpmHTlSkrA"
      },
      "source": [
        "###NOT WORKING (NOT MANDATORY)\n",
        "'''\n",
        "# Validatiob loss of the final iteration from the model traning\n",
        "\n",
        "text_field = data.Field(sequential=True,            # this field consists of a sequence\n",
        "                        tokenize=tokenize_headline, # how to split sequences into words\n",
        "                        include_lengths=True,       # to track the length of sequences, for batching\n",
        "                        batch_first=True,           # similar to batch_first=True used in nn.RNN demonstrated in lecture\n",
        "                        use_vocab=True)             # to turn each character into an integer index\n",
        "valid_data = data.TabularDataset(path=valid_path,                # data file path\n",
        "                                 format=\"tsv\",                   # fields are separated by a tab\n",
        "                                 fields=[('title', text_field)]) # list of fields (we have only one)\n",
        "\n",
        "valid_iter = data.BucketIterator(valid_data, \n",
        "                                 batch_size=64, \n",
        "                                 sort_key=lambda x: len(x.title), # to minimize padding\n",
        "                                 repeat=False)\n",
        "\n",
        "\n",
        "\n",
        "val_loss = 0\n",
        "for it, ((xs, lengths), _) in enumerate(valid_iter):\n",
        "    zs = model(xs)\n",
        "    loss = criterion(zs,xs).sum()\n",
        "    val_loss += float(loss)\n",
        "print(\"Validation loss: \"+ str(val_loss))'''"
      ],
      "execution_count": null,
      "outputs": []
    },
    {
      "cell_type": "markdown",
      "metadata": {
        "id": "wQot60XU4KUT"
      },
      "source": [
        "### Part (c) -- 7%\n",
        "\n",
        "This model requires many epochs (>50) to train, and is quite slow without using a GPU.\n",
        "You can train a model yourself, or you can load the model weights that we have trained,\n",
        "and available on the course website (AE_RNN_model.pk).\n",
        "\n",
        "Assuming that your `AutoEncoder` is set up correctly, the following code should run without\n",
        "error."
      ]
    },
    {
      "cell_type": "code",
      "metadata": {
        "id": "vaUUhd-Q4KUU",
        "colab": {
          "base_uri": "https://localhost:8080/"
        },
        "outputId": "1817c74e-372a-49a9-8529-b79de722e987"
      },
      "source": [
        "model = AutoEncoder(10000, 128, 128)\n",
        "checkpoint_path = '/content/gdrive/My Drive/Intro_to_Deep_Learning/HW4/AE_RNN_model.pk' # Update me\n",
        "model.load_state_dict(torch.load(checkpoint_path))"
      ],
      "execution_count": null,
      "outputs": [
        {
          "output_type": "execute_result",
          "data": {
            "text/plain": [
              "<All keys matched successfully>"
            ]
          },
          "metadata": {
            "tags": []
          },
          "execution_count": 11
        }
      ]
    },
    {
      "cell_type": "markdown",
      "metadata": {
        "id": "sG-xazc24KUU"
      },
      "source": [
        "Then, repeat your code from Q2(d), for `train_data[10].title`\n",
        "with temperature settings 0.7, 0.9, and 1.5.\n",
        "Explain why we generally don't want the temperature setting to\n",
        "be too **small**."
      ]
    },
    {
      "cell_type": "code",
      "metadata": {
        "id": "AXF5iBHX4KUU",
        "colab": {
          "base_uri": "https://localhost:8080/"
        },
        "outputId": "d00b7edb-6b01-4c9b-d716-4f5e552eb346"
      },
      "source": [
        "# Include the generated sequences and explanation in your PDF report.\n",
        "\n",
        "headline = train_data[10].title\n",
        "input_seq = torch.Tensor([vocab.stoi[w] for w in headline]).unsqueeze(0).long()\n",
        "\n",
        "# ...\n",
        "\n",
        "h = model.encode(input_seq)\n",
        "print(\"Input: \", end =\" \")\n",
        "print(headline[1:-1])\n",
        "tm_set = (0.7, 0.9, 1.5)\n",
        "for tm in tm_set:\n",
        "  print(\"Temperature = \"+str(tm)+\":\")\n",
        "  for i in range(5):\n",
        "    gen_sq = sample_sequence(model=model, hidden=h, max_len=20, temperature=tm)\n",
        "    print(str(i+1) +\") \", end =\" \")\n",
        "    print(gen_sq)"
      ],
      "execution_count": null,
      "outputs": [
        {
          "output_type": "stream",
          "text": [
            "Input:  ['wall', 'street', 'rises', ',', 'limps', 'across', 'the', 'finish', 'line', 'of', 'a', 'turbulent', 'year']\n",
            "Temperature = 0.7:\n",
            "1)  ['wall', 'street', 'rises', ',', 'limps', 'die', 'win', 'at', '$', '<pad>', 'highway', 'election', 'surge']\n",
            "2)  ['wall', 'street', 'rises', ',', 'limps', 'die', 'win', 'at', '$', '<pad>', 'highway', 'a', 'thyssenkrupp']\n",
            "3)  ['wall', 'street', 'rises', ',', 'limps', 'die', 'win', 'at', 'of', 'sciences', '<pad>', 'presidential', 'rebuff']\n",
            "4)  ['wall', 'street', 'rises', ',', 'limps', 'die', 'win', 'at', '$', 'yemen', '<pad>', 'major', 'and']\n",
            "5)  ['wall', 'street', 'rises', ',', 'limps', 'die', 'win', 'at', '$', '<pad>', 'highway', 'a', 'thyssenkrupp']\n",
            "Temperature = 0.9:\n",
            "1)  ['wall', 'street', 'rises', ',', 'limps', 'die', 'win', 'at', 'of', 'sciences', 'but', 'presidential', 'flare']\n",
            "2)  ['wall', 'street', 'rises', ',', 'limps', 'die', 'win', 'at', 'of', 'sciences', 'election', 'four']\n",
            "3)  ['wall', 'street', 'rises', ',', 'limps', 'die', 'win', 'at', ',', 'exit', 'holds', 'disperse', 'best']\n",
            "4)  ['wall', 'street', 'rises', ',', 'limps', 'die', 'win', 'at', '$', 'day', 'yemen', 'for', 'forest']\n",
            "5)  ['wall', 'street', 'rises', ',', 'limps', 'die', 'win', 'at', '$', 'election', 'dams', '_num_', 'stokes']\n",
            "Temperature = 1.5:\n",
            "1)  ['wall', 'flooded', 'stocks', 'leads', 'as', 'daytona', 'radiation', 'british', ',', 'holds', 'starts', 'change']\n",
            "2)  ['wall', 'street', 'rises', 'cows', 'markets', 'party', 'small', 'shoulder', 'will', 'fall', 'after', 'exit', 'facility']\n",
            "3)  ['wall', 'street', 'ice', 'resort', 'bencic', 'sanctions', 'borrowers', 'to', '<unk>', 'over', 'doubles', 'yemen', '-sources']\n",
            "4)  ['wall', 'premier', 'value', ',', 'lyon', 'cheer', 'die', ',', \"'s\", 'largely', ':', 'licenses', 'player']\n",
            "5)  ['wall', 'street', 'rises', ',', 'limps', 'heist', 'courts', 'takeover', 'from', '<pad>', 'people', 'blackouts', 'optimism']\n"
          ],
          "name": "stdout"
        }
      ]
    },
    {
      "cell_type": "markdown",
      "metadata": {
        "id": "tgjhZHJDRljU"
      },
      "source": [
        "**Answer:**\n",
        "\n",
        "Setting the temperature to be too small make the varience of the sampled distribution too small, so the words samples will be with hige chance the mean, or set of small words that near the mean. As a result all the sample sequences will be very close to thr input sequence - as we can see in tha case of Temperature = 0.7. When we incresed the Temperature value to be 0.9, the begining of all the sample sequences are the same, but near the and (in the 9 word) some sequences sample other words but is was not so diverse. Just when the sample_sequences sample diffrent word (happen in small probability) the rest of the sequences start אo be different from the previous sequences.\n",
        "Temperature = 1.5 contains the largest different word combination in all sequences.\n",
        "\n",
        "**updated (Vova):**\n",
        "\n",
        "By setting the temperature to small value, make the variance of the sampled distribution too small. Therefore, the generation of the words samples will be with high chance of the mean, or alternatively a short set of words that close to the mean.\n",
        "\n",
        "As a result, all of the sampled sequences were almost similar to the input sequence - as shown in this case of Temperature = 0.7.\n",
        "\n",
        "After increasing the Temperature value to 0.9, the sampled sequences were still starting with the same word, however, towards the end of the sequence (starting with the 9th word) some sequences showed different words, yet, those words had lack of diversity. After the \"sample_sequences\" function sampled different word (this tends to happen in small probability), the rest of sequences starting to become different from the previous generated sequences.\n",
        "\n",
        "Temperature = 1.5 contains the largest different word combination in all of the sequences.\n"
      ]
    },
    {
      "cell_type": "markdown",
      "metadata": {
        "id": "mftjD-To4KUU"
      },
      "source": [
        "## Question 4. Latent space manipulations (20%)\n",
        "\n",
        "In parts 2-3, we've explored the decoder portion of the autoencoder. In this section,\n",
        "let's explore the **encoder**. In particular, the encoder RNN gives us \n",
        "embeddings of news headlines!\n",
        "\n",
        "First, let's load the **validation** data set:"
      ]
    },
    {
      "cell_type": "code",
      "metadata": {
        "id": "08HhRGfm4KUU"
      },
      "source": [
        "valid_data = data.TabularDataset(\n",
        "    path=valid_path,                # data file path\n",
        "    format=\"tsv\",                   # fields are separated by a tab\n",
        "    fields=[('title', text_field)]) # list of fields (we have only one)"
      ],
      "execution_count": null,
      "outputs": []
    },
    {
      "cell_type": "markdown",
      "metadata": {
        "id": "utBRC0tq4KUV"
      },
      "source": [
        "### Part (a) -- 4%\n",
        "\n",
        "Compute the embeddings of every item in the validation set. Then, store the\n",
        "result in a single PyTorch tensor of shape `[19046, 128]`, since there are\n",
        "19,046 headlines in the validation set."
      ]
    },
    {
      "cell_type": "code",
      "metadata": {
        "id": "9GmdVIPB4KUV"
      },
      "source": [
        "# Write your code here\n",
        "# Show that your resulting PyTorch tensor has shape `[19046, 128]`\n",
        "\n",
        "encode_seq = torch.zeros([19046, 128])\n",
        "for i in range(19046):\n",
        "  #print(valid_data[i].title)\n",
        "  headline =  valid_data[i].title\n",
        "  input_seq = torch.Tensor([vocab.stoi[w] for w in headline]).long().unsqueeze(0)\n",
        "  encode_seq[i,:] = model.encode(input_seq)\n",
        "  "
      ],
      "execution_count": null,
      "outputs": []
    },
    {
      "cell_type": "code",
      "metadata": {
        "colab": {
          "base_uri": "https://localhost:8080/"
        },
        "id": "LkyjlUhrW0Ud",
        "outputId": "4f4bcd00-77c4-420d-8174-e8edc9c7c82d"
      },
      "source": [
        "print(encode_seq.shape)"
      ],
      "execution_count": null,
      "outputs": [
        {
          "output_type": "stream",
          "text": [
            "torch.Size([19046, 128])\n"
          ],
          "name": "stdout"
        }
      ]
    },
    {
      "cell_type": "markdown",
      "metadata": {
        "id": "BlKbT2vW4KUV"
      },
      "source": [
        "### Part (b) -- 4%\n",
        "\n",
        "Find the 5 closest headlines to the headline `valid_data[13]`. Use the\n",
        "cosine similarity to determine closeness. (Hint: You can use code from assignment 2)"
      ]
    },
    {
      "cell_type": "code",
      "metadata": {
        "id": "7AMt2HIz4KUV"
      },
      "source": [
        "# Write your code here. Make sure to include the actual 5 closest headlines.\n",
        "norms = torch.linalg.norm(encode_seq, axis=1)\n",
        "encode_seq_norm = (encode_seq.T / norms).T\n",
        "similarities = torch.matmul(encode_seq_norm, encode_seq_norm.T)"
      ],
      "execution_count": null,
      "outputs": []
    },
    {
      "cell_type": "code",
      "metadata": {
        "colab": {
          "base_uri": "https://localhost:8080/"
        },
        "id": "6K6ACrrfXZIm",
        "outputId": "172783a5-3872-45f7-ac35-468f69d5fe0d"
      },
      "source": [
        "print('Headline: ')\n",
        "print(valid_data[13].title)\n",
        "similaritie = torch.matmul(encode_seq_norm[13], encode_seq_norm.T)\n",
        "\n",
        "print('\\n5 closest headlines:')\n",
        "max_list = []\n",
        "similaritie[torch.argmax(similaritie)]=0\n",
        "for i in range(0,5):\n",
        "  max_list.append(torch.argmax(similaritie))\n",
        "  similaritie[max_list[i]]=0\n",
        "  print(str(i+1) +\")\", end =\" \")\n",
        "  print(valid_data[torch.argmax(similaritie)].title)"
      ],
      "execution_count": null,
      "outputs": [
        {
          "output_type": "stream",
          "text": [
            "Headline: \n",
            "['<bos>', 'asia', 'takes', 'heart', 'from', 'new', 'year', 'gains', 'in', 'u.s.', 'stock', 'futures', '<eos>']\n",
            "\n",
            "5 closest headlines:\n",
            "1) ['<bos>', 'saudi', ',', 'russia', 'look', 'to', 'seal', 'deeper', 'output', 'cuts', 'with', 'oil', 'producers', '<eos>']\n",
            "2) ['<bos>', 'eu', 'orders', 'quarantine', 'for', 'staff', 'who', 'traveled', 'to', 'northern', 'italy', '<eos>']\n",
            "3) ['<bos>', 'update', '_num_-italy', \"'s\", 'prime', 'minister', 'says', 'new', 'government', 'will', 'bicker', 'less', '<eos>']\n",
            "4) ['<bos>', 'portugal', \"'s\", 'moura', 'pays', 'tribute', 'to', 'cod', 'fishermen', 'at', 'milan', 'fashion', 'close', '<eos>']\n",
            "5) ['<bos>', 'nigeria', \"'s\", 'president', 'and', 'main', 'rival', 'confident', 'as', 'polls', 'close', '<eos>']\n"
          ],
          "name": "stdout"
        }
      ]
    },
    {
      "cell_type": "markdown",
      "metadata": {
        "id": "cAzZt4bU4KUW"
      },
      "source": [
        "### Part (c) -- 4%\n",
        "\n",
        "Find the 5 closest headlines to another headline of your choice."
      ]
    },
    {
      "cell_type": "code",
      "metadata": {
        "id": "BkKR09Ce4KUW",
        "colab": {
          "base_uri": "https://localhost:8080/"
        },
        "outputId": "d4199101-d66e-4858-9174-d9958dfd4a48"
      },
      "source": [
        "# Write your code here. \n",
        "# Make sure to include the original headline and the 5 closest headlines.\n",
        "\n",
        "print('Headline: ')\n",
        "print(valid_data[22].title)\n",
        "similaritie = torch.matmul(encode_seq_norm[22], encode_seq_norm.T)\n",
        "\n",
        "print('\\n5 closest headlines:')\n",
        "max_list = []\n",
        "similaritie[torch.argmax(similaritie)]=0\n",
        "for i in range(0,5):\n",
        "  max_list.append(torch.argmax(similaritie))\n",
        "  print(str(i+1) +\")\", end =\" \")\n",
        "  print(valid_data[torch.argmax(similaritie)].title)\n",
        "  similaritie[max_list[i]]=0"
      ],
      "execution_count": null,
      "outputs": [
        {
          "output_type": "stream",
          "text": [
            "Headline: \n",
            "['<bos>', 'several', 'killed', 'in', 'train', 'accident', 'on', 'bridge', 'in', 'denmark', '-', 'police', '<eos>']\n",
            "\n",
            "5 closest headlines:\n",
            "1) ['<bos>', 'eight', 'killed', 'in', 'quake', ',', 'aftershocks', 'in', 'philippines', ',', '_num_', 'injured', ':', 'agency', '<eos>']\n",
            "2) ['<bos>', 'four', 'killed', 'in', 'train', 'blast', 'in', 'pakistan', \"'s\", 'resource-rich', 'baluchistan', '<eos>']\n",
            "3) ['<bos>', 'three', 'killed', ',', 'including', 'opposition', 'politician', ',', 'in', 'blast', 'in', 'pakistan', \"'s\", 'balochistan', 'province', '<eos>']\n",
            "4) ['<bos>', 'three', 'killed', 'in', 'turkish', 'border', 'town', 'in', 'mortar', 'fire', 'from', 'syria', ':', 'sources', '<eos>']\n",
            "5) ['<bos>', 'sixth', 'person', 'dies', 'in', 'coronavirus', 'outbreak', 'in', 'italy', '-', 'state', 'broadcaster', 'rai', '<eos>']\n"
          ],
          "name": "stdout"
        }
      ]
    },
    {
      "cell_type": "code",
      "metadata": {
        "colab": {
          "base_uri": "https://localhost:8080/"
        },
        "id": "9IgiEpGrRw3k",
        "outputId": "eb07efb9-e896-48f9-b4ed-bbba18ba9f23"
      },
      "source": [
        "max_list[4].long().unsqueeze(0)"
      ],
      "execution_count": null,
      "outputs": [
        {
          "output_type": "execute_result",
          "data": {
            "text/plain": [
              "tensor([18680])"
            ]
          },
          "metadata": {
            "tags": []
          },
          "execution_count": 102
        }
      ]
    },
    {
      "cell_type": "markdown",
      "metadata": {
        "id": "ftUooZD-4KUW"
      },
      "source": [
        "### Part (d) -- 8%\n",
        "\n",
        "Choose two headlines from the validation set, and find their embeddings.\n",
        "We will **interpolate** between the two embeddings like we did in the example presented in class for training autoencoders on MNIST.\n",
        "\n",
        "Find 3 points, equally spaced between the embeddings of your headlines.\n",
        "If we let $e_0$ be the embedding of your first headline and $e_4$ be\n",
        "the embedding of your second headline, your three points should be:\n",
        "\n",
        "\\begin{align*}\n",
        "e_1 &=  0.75 e_0 + 0.25 e_4 \\\\\n",
        "e_2 &=  0.50 e_0 + 0.50 e_4 \\\\\n",
        "e_3 &=  0.25 e_0 + 0.75 e_4 \\\\\n",
        "\\end{align*}\n",
        "\n",
        "Decode each of $e_1$, $e_2$ and $e_3$ five times, with a temperature setting\n",
        "that shows some variation in the generated sequences. Try to get a logical and cool sentence (this might be hard)."
      ]
    },
    {
      "cell_type": "code",
      "metadata": {
        "id": "7SYa3PNc4KUW",
        "colab": {
          "base_uri": "https://localhost:8080/"
        },
        "outputId": "f1b44c97-0bb8-476c-cd3b-96566afa9913"
      },
      "source": [
        "# Write your code here. Include your generated sequences.\n",
        "n1 = 22\n",
        "n2 = 61\n",
        "print('Original haedlines:')\n",
        "print(\"1) \", end =\" \")\n",
        "print(valid_data[n1].title)\n",
        "print(\"2) \", end =\" \")\n",
        "print(valid_data[n2].title)\n",
        "emb_n1 = encode_seq[n1,:]\n",
        "emb_n2 = encode_seq[n2,:]\n",
        "\n",
        "e0 = emb_n1\n",
        "e4 = emb_n2\n",
        "\n",
        "e1 = 0.75*e0 + 0.25*e4\n",
        "e2 = 0.50*e0 + 0.50*e4\n",
        "e3 = 0.25*e0 + 0.75*e4\n",
        "e = [e1, e2, e3]\n",
        "\n",
        "for k in range(3):\n",
        "  print()\n",
        "  print('Interpolation of e'+ str(k+1)+':')\n",
        "  h = e[k].view(1,1,-1)\n",
        "  tm_set = (0.9, 1.5, 5)\n",
        "  for tm in tm_set:\n",
        "    print(\"Temperature = \"+str(tm)+\":\")\n",
        "    for i in range(2):\n",
        "      gen_sq = sample_sequence(model=model, hidden=h, max_len=20, temperature=tm)\n",
        "      print(str(i+1) +\") \", end =\" \")\n",
        "      print(gen_sq)\n",
        "\n"
      ],
      "execution_count": null,
      "outputs": [
        {
          "output_type": "stream",
          "text": [
            "Original haedlines:\n",
            "1)  ['<bos>', 'several', 'killed', 'in', 'train', 'accident', 'on', 'bridge', 'in', 'denmark', '-', 'police', '<eos>']\n",
            "2)  ['<bos>', 'qualcomm', 'posts', 'court', 'ordered', 'bonds', 'to', 'stop', 'iphone', 'sales', 'in', 'germany', '<eos>']\n",
            "\n",
            "Interpolation of e1:\n",
            "Temperature = 0.9:\n",
            "1)  ['several', 'killed', 'update', 'seeking', 'train', 'take', ',', 'using', 'days', 'office', 'chief']\n",
            "2)  ['press', 'teens', 'robot', 'in', 'blast', 'united', ',', 'in', 'elfa', '<unk>', 'russian']\n",
            "Temperature = 1.5:\n",
            "1)  ['shelling', 'victim', 'to', 'train', 'in', 'trapped', 'vs', 'trump', 'village', '-', 'recession']\n",
            "2)  ['dozens', '...', \"'s\", 'checks', 'woods', 'from', '_num_-google', 'oppose', 'local', '-', 'shares']\n",
            "Temperature = 5:\n",
            "1)  ['accounts', 'come', 'product', 'melbourne', 'clearing', 'kantar', 'devices', 'national', 'save', 'says', 'deficit', 'cup', 'courts', 'gmt', \"'s\", 'crisis', '_num_-wework']\n",
            "2)  ['pursuing', 'tie-up', 'alarms', 'stranded', 'reported', 'surpass', 'another', 'invited', 'boom', 'calls', 'ivanka', 'subscription', \"'s\", 'profits', 'commodity', 'future', 'community']\n",
            "\n",
            "Interpolation of e2:\n",
            "Temperature = 0.9:\n",
            "1)  ['units', \"'s\", 'grizzlies', 'at', 'bombing', 'thousands', 'gets', 'commission', 'its', 'death', 'pepper']\n",
            "2)  ['fees', 'air', 'injured', 'in', 'ship', 'to', 'boys', 'capital', 'british', 'decades', 'to']\n",
            "Temperature = 1.5:\n",
            "1)  ['1mdb', 'five', \"'s\", 'tass', 'ferry', 'take', 'for', 'japan', 'daily', 'death', 'clues']\n",
            "2)  ['explodes', 'canada', 'manager', 'flight', 'ban', ',', 'axel', 'of', 'fear', 'fire', 'co']\n",
            "Temperature = 5:\n",
            "1)  ['blaming', 'putting', 'list', 'blast', 'journalist', 'projects', 'gold', 'northern', 'club', 'lure', 'indian']\n",
            "2)  ['audit', '_num_-two', 'record', 'kenin', 'czechs', 'sunday', 'torch', 'two', 'million', 'export', 'autism', 'kemp', 'ex-minister', 'suspicion', 'norway', 'stocks-trade', 'a.m.', 'di', 'skiing', 'capex']\n",
            "\n",
            "Interpolation of e3:\n",
            "Temperature = 0.9:\n",
            "1)  ['qualcomm', 'grenade', 'chemical', 'to', 'coup', ',', 'projects', 'from', 'field', 'at', 'contract']\n",
            "2)  ['domingo', 'sources', 'sunday', 'cruise', 'in', 'to', 'sfr', 'licensing', 'up', ':', 'airlines']\n",
            "Temperature = 1.5:\n",
            "1)  ['locked', 'update', 'starbucks', 'believed', 'at', 'emergency', 'nyt', 'banks', '_num_', 'petrobras', 'box']\n",
            "2)  ['banco', 'after', 'flight', 'uk', 'truck', 'its', 'contract', 'big', 'income', 'seized', '_num_']\n",
            "Temperature = 5:\n",
            "1)  ['serves', 'messaging', 'posts', 'rages', 'plane', 'bombing', 'industry', 'fails', 'ago', 'volcano', 'passes', 'cyclone', 'time', '_num_-shell', 'mccabe', 'decades', 'britain', 'somali', 'leave', 'snc-lavalin']\n",
            "2)  ['valley', 'scottish', 'flock', 'reaction', 'to', 'frenchman', 'capital', 'months', 'robot', 'double', 'turkey', 'pretax', 'expectations', 'lighthizer', 'verizon', 'st', 'chance', 'coach', 'speech', 'racing']\n"
          ],
          "name": "stdout"
        }
      ]
    },
    {
      "cell_type": "code",
      "metadata": {
        "colab": {
          "base_uri": "https://localhost:8080/"
        },
        "id": "NVyUux6U1O4Y",
        "outputId": "87aa4123-40ae-4328-d32c-7880825c9d9a"
      },
      "source": [
        "n1 = 22\n",
        "#n2 = random.randint(1,len(valid_data)-1)\n",
        "n2 = 18680 #change n2 to 18680, for similar headline\n",
        "\n",
        "print('Original haedlines:')\n",
        "print(\"1) \", end =\" \")\n",
        "print(' '.join(valid_data[n1].title))\n",
        "print(\"2) \", end =\" \")\n",
        "print(' '.join(valid_data[n2].title))\n",
        "emb_n1 = encode_seq[n1,:]\n",
        "emb_n2 = encode_seq[n2,:]\n",
        "\n",
        "e0 = emb_n1\n",
        "e4 = emb_n2\n",
        "\n",
        "e1 = 0.75*e0 + 0.25*e4\n",
        "e2 = 0.50*e0 + 0.50*e4\n",
        "e3 = 0.25*e0 + 0.75*e4\n",
        "e = [e1, e2, e3]\n",
        "\n",
        "for k in range(3):\n",
        "  print()\n",
        "  print('Interpolation of e'+ str(k+1)+':')\n",
        "  h = e[k].view(1,1,-1)\n",
        "  tm_set = (0.8, 1.7, 2.4)\n",
        "  for tm in tm_set:\n",
        "    print(\"\\nTemperature = \"+str(tm)+\":\")\n",
        "    for i in range(5):\n",
        "      gen_sq = sample_sequence(model=model, hidden=h, max_len=15, temperature=tm)\n",
        "      print(str(i+1) +\") \", end =\" \")\n",
        "      print(' '.join(gen_sq))"
      ],
      "execution_count": null,
      "outputs": [
        {
          "output_type": "stream",
          "text": [
            "Original haedlines:\n",
            "1)  <bos> several killed in train accident on bridge in denmark - police <eos>\n",
            "2)  <bos> sixth person dies in coronavirus outbreak in italy - state broadcaster rai <eos>\n",
            "\n",
            "Interpolation of e1:\n",
            "\n",
            "Temperature = 0.8:\n",
            "1)  seattle killed sale pistons deter in unrest : reuters rakhine dies\n",
            "2)  several killed , diverted in train , separatist the - sources\n",
            "3)  several killed sale members off including , emergency - <unk> crown\n",
            "4)  several to killed destroyed at british during darfur trump - <unk>\n",
            "5)  several killed , diverted in train , separatist president - <unk>\n",
            "\n",
            "Temperature = 1.7:\n",
            "1)  several to injured dozens roche in , seizure bombings - <unk>\n",
            "2)  somali 5g stolen jan. in fishing from violent parliament : academy\n",
            "3)  vigil since state anti-doping in strongest northern turkish unacceptable game u.n\n",
            "4)  several to state darfur in off who consortium highlights - house trap\n",
            "5)  responsibility bladder killed kabul in muguruza port in - fire spies\n",
            "\n",
            "Temperature = 2.4:\n",
            "1)  feared investment sunday emissions , kills troops sunday l.a. budget walking tops\n",
            "2)  sdf d-day mine checkpoints up shooting stay next york _num_-month rounds\n",
            "3)  sao last attacks police several put , transfers election arrests elderly\n",
            "4)  office _num_-three seven police in semafo northern street much call -\n",
            "5)  jersey kcna supporters sale up eastern stolen days strains at -\n",
            "\n",
            "Interpolation of e2:\n",
            "\n",
            "Temperature = 0.8:\n",
            "1)  last reaches in jolts attacked in solved a city - belgium\n",
            "2)  several to film at many in texas years - show election source\n",
            "3)  last reaches in involved of quarantined fire plane ( broadcaster for\n",
            "4)  this elderly shooting in coronavirus in renewed quake : putin <unk>\n",
            "5)  last reaches : trapped in as remaining still injured state election\n",
            "\n",
            "Temperature = 1.7:\n",
            "1)  horse nine airliner tanker in yoga northern meeting mauritius - york\n",
            "2)  prix : six schools shooting in afraid policemen hits - supreme state\n",
            "3)  air headquarters quarter quarantined in <pad> calls curtailments state the park -\n",
            "4)  sensor e victims rockets in infections northern president the carried _num_\n",
            "5)  contract instagram scenarios tass seven as eastern for shootings year jail\n",
            "\n",
            "Temperature = 2.4:\n",
            "1)  sunday stg seven england fired exxon : setback curbs women york\n",
            "2)  thirteen abbas killed in several corner statement survey - fire member\n",
            "3)  concert in j.c. sale accident as attacks kills pensions <unk> -\n",
            "4)  motorcycling through ! since pool in refinery rohingya month : marketing\n",
            "5)  reaches last u.n achilles nearly in due dead ford suicide zealand _num_\n",
            "\n",
            "Interpolation of e3:\n",
            "\n",
            "Temperature = 0.8:\n",
            "1)  magnitude serena _num_ diverted in saudi lebanon gulf false - canada\n",
            "2)  sixth suspected dies halloween in arabia data in - york dead -\n",
            "3)  sixth suspected dies halloween in iranian from world in - viacom -\n",
            "4)  sixth suspected dies home hold in news iranian high state armed\n",
            "5)  sixth was seven with tanker city including japan - business sentences\n",
            "\n",
            "Temperature = 1.7:\n",
            "1)  carl cancel for dozens in , bpd leaves prison day source\n",
            "2)  magnitude kennedy best workers from wounds uk - cheers moscow times\n",
            "3)  innovation man seven _num_-month passengers : syria arrest december for jimmy\n",
            "4)  6th charged seven government gets clashes japan years fire transition _num_-ftc\n",
            "5)  magnitude predicts college feb border in case subscription state centre paris\n",
            "\n",
            "Temperature = 2.4:\n",
            "1)  comcast headlines 's kingdom contract troops after gig week spain injured\n",
            "2)  cancel millions : across dr all due of israel subscription death\n",
            "3)  bumps civilians to state surge citizen fear of the catastrophic al <unk>\n",
            "4)  automation _num_ _num_-petrobras many in prisoners stop british weakest - statement poll\n",
            "5)  timeline credit gm in quiet ntsb refinery as conditions memorial - moscow\n"
          ],
          "name": "stdout"
        }
      ]
    }
  ]
}